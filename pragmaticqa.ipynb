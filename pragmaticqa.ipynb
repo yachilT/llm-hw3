{
 "cells": [
  {
   "cell_type": "markdown",
   "id": "2167ffa3",
   "metadata": {},
   "source": [
    "# Explore PragmatiCQA Dataset\n",
    "\n",
    "Load jsonl files from the PragmatiCQA dataset - explore data."
   ]
  },
  {
   "cell_type": "code",
   "execution_count": 1,
   "id": "95633efd",
   "metadata": {},
   "outputs": [],
   "source": [
    "# Load jsonl from dataset directory\n",
    "import json\n",
    "import os  \n",
    "\n",
    "def read_data(filename, dataset_dir=\"../PragmatiCQA/data\"):\n",
    "    corpus = []\n",
    "    with open(os.path.join(dataset_dir, filename), 'r') as f:\n",
    "        for line in f:\n",
    "            corpus.append(json.loads(line))\n",
    "    return corpus\n",
    "\n",
    "pcqa_test = read_data(\"test.jsonl\")"
   ]
  },
  {
   "cell_type": "code",
   "execution_count": 2,
   "id": "88bd2485",
   "metadata": {},
   "outputs": [
    {
     "name": "stdout",
     "output_type": "stream",
     "text": [
      "Loaded 213 documents from PragmatiCQA test set.\n"
     ]
    }
   ],
   "source": [
    "print(f\"Loaded {len(pcqa_test)} documents from PragmatiCQA test set.\")"
   ]
  },
  {
   "cell_type": "code",
   "execution_count": null,
   "id": "9ff9c550",
   "metadata": {},
   "outputs": [
    {
     "name": "stdout",
     "output_type": "stream",
     "text": [
      "dict_keys(['topic', 'genre', 'community', 'qas'])\n"
     ]
    }
   ],
   "source": [
    "# Pretty print the first document to check the structure\n",
    "import pprint   \n",
    "pprint.pprint(pcqa_test[0].keys())  # Print the first document to check the structure"
   ]
  },
  {
   "cell_type": "code",
   "execution_count": 8,
   "id": "26f6d6ed",
   "metadata": {},
   "outputs": [
    {
     "name": "stdout",
     "output_type": "stream",
     "text": [
      "Loaded 6 questions from the first document.\n"
     ]
    }
   ],
   "source": [
    "print(f\"Loaded {len(pcqa_test[0]['qas'])} questions from the first document.\")"
   ]
  },
  {
   "cell_type": "code",
   "execution_count": 5,
   "id": "fbd41411",
   "metadata": {},
   "outputs": [
    {
     "name": "stdout",
     "output_type": "stream",
     "text": [
      "{'Baseball',\n",
      " 'Britney Spears',\n",
      " 'Fallout',\n",
      " 'Kung Fu Panda',\n",
      " 'LEGO',\n",
      " 'Mystery Science Theater 3000',\n",
      " 'Peanuts Comics',\n",
      " 'Studio Ghibli',\n",
      " 'The Legend of Zelda',\n",
      " 'Throne of Glass'}\n"
     ]
    }
   ],
   "source": [
    "pprint.pprint(set(entry['community'] for entry in pcqa_test))"
   ]
  },
  {
   "cell_type": "code",
   "execution_count": 7,
   "id": "da3f1b77",
   "metadata": {},
   "outputs": [
    {
     "name": "stdout",
     "output_type": "stream",
     "text": [
      "{'a': 'The Legend of Zelda came out as early as 1986 for the Famicom in Japan, '\n",
      "      'and was later released in the western world, including Europe and the '\n",
      "      'US in 1987. Would you like to know about the story?',\n",
      " 'a_meta': {'literal_obj': [{'endKey': '9cbccabd-66be-4a46-bd8b-f59a299c987d',\n",
      "                             'startKey': '1f4f808a-8560-4894-b892-15fa3c33887a',\n",
      "                             'text': 'FDS release February 21, 1986\\n'},\n",
      "                            {'endKey': '738bff65-b4f9-4660-bd18-79722ed67a40',\n",
      "                             'startKey': 'a0d9d5c5-18bb-4be4-825e-fca2900db18e',\n",
      "                             'text': 'The Legend of Zelda is the first '\n",
      "                                     'installment of the Zelda series. '},\n",
      "                            {'endKey': '738bff65-b4f9-4660-bd18-79722ed67a40',\n",
      "                             'startKey': '738bff65-b4f9-4660-bd18-79722ed67a40',\n",
      "                             'text': ' It centers its plot around a boy named '\n",
      "                                     'Link , who becomes the central '\n",
      "                                     'protagonist throughout the series. '}],\n",
      "            'pragmatic_obj': [{'endKey': '738bff65-b4f9-4660-bd18-79722ed67a40',\n",
      "                               'startKey': '738bff65-b4f9-4660-bd18-79722ed67a40',\n",
      "                               'text': 'It came out as early as 1986 for the '\n",
      "                                       'Famicom in Japan, and was later '\n",
      "                                       'released in the western world, '\n",
      "                                       'including Europe and the US in '\n",
      "                                       '1987.'}]},\n",
      " 'human_eval': ['2', '1', '1', '1', '2'],\n",
      " 'q': 'What year did the Legend of Zelda come out?'}\n"
     ]
    }
   ],
   "source": [
    "pprint.pprint(pcqa_test[0]['qas'][0])"
   ]
  },
  {
   "cell_type": "code",
   "execution_count": null,
   "id": "3c226e1d",
   "metadata": {},
   "outputs": [],
   "source": []
  }
 ],
 "metadata": {
  "kernelspec": {
   "display_name": "nlp-with-llms-2025-hw3",
   "language": "python",
   "name": "python3"
  },
  "language_info": {
   "codemirror_mode": {
    "name": "ipython",
    "version": 3
   },
   "file_extension": ".py",
   "mimetype": "text/x-python",
   "name": "python",
   "nbconvert_exporter": "python",
   "pygments_lexer": "ipython3",
   "version": "3.11.13"
  }
 },
 "nbformat": 4,
 "nbformat_minor": 5
}
