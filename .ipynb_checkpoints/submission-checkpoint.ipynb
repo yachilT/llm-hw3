{
 "cells": [
  {
   "cell_type": "markdown",
   "id": "4a42c8e3",
   "metadata": {},
   "source": [
    "## 4.3 The Traditional NLP Approach"
   ]
  },
  {
   "cell_type": "markdown",
   "id": "7d5d3eff",
   "metadata": {},
   "source": [
    "### dspy module"
   ]
  },
  {
   "cell_type": "code",
   "execution_count": 1,
   "id": "af978385",
   "metadata": {},
   "outputs": [],
   "source": [
    "import dspy\n",
    "from sentence_transformers import SentenceTransformer\n",
    "from transformers import pipeline\n",
    "lm = dspy.LM('xai/grok-3-mini', max_tokens=6000, temperature=0.1, top_p=0.9)\n",
    "dspy.configure(lm=lm)\n",
    "\n",
    "# Traverse a directory and read html files - extract text from the html files\n",
    "import os\n",
    "from bs4 import BeautifulSoup\n",
    "def read_html_files(dir_name, directory=\"../PragmatiCQA-sources\"):\n",
    "    texts = []\n",
    "    for filename in os.listdir(os.path.join(directory, dir_name)):\n",
    "        if filename.endswith(\".html\"):\n",
    "            with open(os.path.join(directory, dir_name, filename), 'r', encoding='utf-8') as file:\n",
    "                soup = BeautifulSoup(file, 'html.parser')\n",
    "                texts.append(soup.get_text())\n",
    "    return texts\n",
    "\n",
    "model = SentenceTransformer(\"sentence-transformers/static-retrieval-mrl-en-v1\", device=\"cpu\")\n",
    "embedder = dspy.Embedder(model.encode)\n",
    "\n",
    "# Perform retrieval on a specific topic: read html files for the corresponding folder, index\n",
    "def make_search(topic):\n",
    "    corpus = read_html_files(topic)\n",
    "    max_characters = 10000 \n",
    "    topk_docs_to_retrieve = 5  # number of documents to retrieve per search query\n",
    "    return dspy.retrievers.Embeddings(embedder=embedder, corpus=corpus, k=topk_docs_to_retrieve, brute_force_threshold=max_characters)\n",
    "\n",
    "# # Make a RAG module with a given retriever.\n",
    "# class RAG(dspy.Module):\n",
    "#     def __init__(self):\n",
    "#         self.respond = pipeline(\"question-answering\", model='distilbert-base-cased-distilled-squad')\n",
    "\n",
    "#     def forward(self, topic, question, literal, pragmatic):\n",
    "#         search = make_search(topic)\n",
    "#         context = \" \".join(search(question).passages)\n",
    "#         output = self.respond(context=context, question=question)\n",
    "#         return dspy.Prediction(response=output['answer'])"
   ]
  },
  {
   "cell_type": "code",
   "execution_count": 2,
   "id": "04ca91ec",
   "metadata": {},
   "outputs": [],
   "source": [
    "class RAG(dspy.Module):\n",
    "    def __init__(self, make_search):\n",
    "        self.make_search = make_search\n",
    "        self.respond = pipeline(\"question-answering\", model='distilbert-base-cased-distilled-squad')\n",
    "\n",
    "    def forward(self, topic, question, literal, pragmatic):\n",
    "        search = self.make_search(topic, literal, pragmatic)\n",
    "        context = \" \".join(search(question))\n",
    "        output = self.respond(context=context, question=question)\n",
    "        return dspy.Prediction(response=output['answer'])"
   ]
  },
  {
   "cell_type": "code",
   "execution_count": 3,
   "id": "48bff5fd",
   "metadata": {},
   "outputs": [],
   "source": [
    "import json\n",
    "def get_conversations_set(filename, dataset_dir=\"../PragmatiCQA/data\"):\n",
    "    conversations = []\n",
    "    with open(os.path.join(dataset_dir, filename), 'r') as f:\n",
    "        for line in f:\n",
    "            conversations.append(json.loads(line))\n",
    "    return [dspy.Example(topic=d['community'],\n",
    "                        question=d['qas'][0]['q'], \n",
    "                        response=d['qas'][0]['a'],\n",
    "                        literal=[text['text'] for text in d['qas'][0]['a_meta']['literal_obj']],\n",
    "                        pragmatic=[text['text'] for text in d['qas'][0]['a_meta']['pragmatic_obj']]).with_inputs('question', 'topic', 'literal', 'pragmatic') for d in conversations]\n",
    "\n",
    "pcqa_test = get_conversations_set(\"test.jsonl\")"
   ]
  },
  {
   "cell_type": "code",
   "execution_count": 4,
   "id": "2c08d72a",
   "metadata": {},
   "outputs": [],
   "source": [
    "# from dspy.evaluate import SemanticF1, Evaluate\n",
    "# metric = SemanticF1(decompositional=True)\n",
    "\n",
    "# model = RAG()\n",
    "# print(pcqa_test[0].inputs())\n",
    "# pred = model(**pcqa_test[0].inputs())\n",
    "# print(pred)\n",
    "\n",
    "# metric(pcqa_test[0], pred)\n"
   ]
  },
  {
   "cell_type": "code",
   "execution_count": 5,
   "id": "c9edc0b0",
   "metadata": {},
   "outputs": [],
   "source": [
    "from dspy.evaluate import SemanticF1, Evaluate\n",
    "import pickle\n",
    "def evaluate(model, example_set, save_path):\n",
    "    metric = SemanticF1(decompositional=True)\n",
    "\n",
    "    evaluator = Evaluate(devset=example_set, metric=metric, num_threads=1, display_progress=True, display_table=True, provide_feedback=True)\n",
    "    results = None\n",
    "    if os.path.exists(save_path):\n",
    "        results = pickle.load(save_path)\n",
    "    else:\n",
    "        results = evaluator(model)\n",
    "        with open(save_path, \"wb\") as f:\n",
    "            pickle.dump(results, f)\n",
    "\n",
    "    return results"
   ]
  },
  {
   "cell_type": "code",
   "execution_count": 8,
   "id": "6856f25f",
   "metadata": {},
   "outputs": [],
   "source": [
    "def make_search(topic, literal, pragmatic):\n",
    "    corpus = read_html_files(topic)\n",
    "    max_characters = 10000 \n",
    "    topk_docs_to_retrieve = 5  # number of documents to retrieve per search query\n",
    "    search = dspy.retrievers.Embeddings(embedder=embedder, corpus=corpus, k=topk_docs_to_retrieve, brute_force_threshold=max_characters)\n",
    "    return lambda q: search(q).passages\n",
    "\n",
    "\n",
    "def get_literal(topic, literal, pragmatic):\n",
    "    return lambda: literal\n",
    "\n",
    "def get_pragmatic(topic, literal, pragmatic):\n",
    "    return lambda: pragmatic"
   ]
  },
  {
   "cell_type": "markdown",
   "id": "eb3c2c07",
   "metadata": {},
   "source": [
    "Retrieved"
   ]
  },
  {
   "cell_type": "code",
   "execution_count": 9,
   "id": "7c5ee254",
   "metadata": {},
   "outputs": [
    {
     "name": "stderr",
     "output_type": "stream",
     "text": [
      "Device set to use cpu\n"
     ]
    },
    {
     "name": "stdout",
     "output_type": "stream",
     "text": [
      "Average Metric: 22.34 / 213 (10.5%): 100%|███████████████████████████████████████████████████████████████████████████████████████████████████████████████████████████████████| 213/213 [2:09:47<00:00, 36.56s/it]"
     ]
    },
    {
     "name": "stderr",
     "output_type": "stream",
     "text": [
      "2025/08/24 23:21:18 INFO dspy.evaluate.evaluate: Average Metric: 22.341969801856195 / 213 (10.5%)\n"
     ]
    },
    {
     "name": "stdout",
     "output_type": "stream",
     "text": [
      "\n"
     ]
    },
    {
     "data": {
      "text/html": [
       "<div>\n",
       "<style scoped>\n",
       "    .dataframe tbody tr th:only-of-type {\n",
       "        vertical-align: middle;\n",
       "    }\n",
       "\n",
       "    .dataframe tbody tr th {\n",
       "        vertical-align: top;\n",
       "    }\n",
       "\n",
       "    .dataframe thead th {\n",
       "        text-align: right;\n",
       "    }\n",
       "</style>\n",
       "<table border=\"1\" class=\"dataframe\">\n",
       "  <thead>\n",
       "    <tr style=\"text-align: right;\">\n",
       "      <th></th>\n",
       "      <th>topic</th>\n",
       "      <th>question</th>\n",
       "      <th>example_response</th>\n",
       "      <th>literal</th>\n",
       "      <th>pragmatic</th>\n",
       "      <th>pred_response</th>\n",
       "      <th>SemanticF1</th>\n",
       "    </tr>\n",
       "  </thead>\n",
       "  <tbody>\n",
       "    <tr>\n",
       "      <th>0</th>\n",
       "      <td>The Legend of Zelda</td>\n",
       "      <td>What year did the Legend of Zelda come out?</td>\n",
       "      <td>The Legend of Zelda came out as early as 1986 for the Famicom in J...</td>\n",
       "      <td>['FDS release February 21, 1986\\n', 'The Legend of Zelda is the fi...</td>\n",
       "      <td>['It came out as early as 1986 for the Famicom in Japan, and was l...</td>\n",
       "      <td>1986</td>\n",
       "      <td>✔️ [0.500]</td>\n",
       "    </tr>\n",
       "    <tr>\n",
       "      <th>1</th>\n",
       "      <td>The Legend of Zelda</td>\n",
       "      <td>What console is The Legend of Zelda designed for?</td>\n",
       "      <td>The Legend of Zelda was originally released in 1986 for the Famico...</td>\n",
       "      <td>[' It came out as early as 1986 for the Famicom in Japan, and was ...</td>\n",
       "      <td>['The Legend of Zelda was commercially successful, selling a milli...</td>\n",
       "      <td>Famicom\\n   Disk System</td>\n",
       "      <td>✔️ [0.286]</td>\n",
       "    </tr>\n",
       "    <tr>\n",
       "      <th>2</th>\n",
       "      <td>The Legend of Zelda</td>\n",
       "      <td>when did the legend of zelda last until?</td>\n",
       "      <td>The Legend of Zelda is the first installment in the Zelda franchis...</td>\n",
       "      <td>['The Legend of Zelda is the first installment in the Zelda franch...</td>\n",
       "      <td>[Nintendo Switch Online, April 23, 2019]</td>\n",
       "      <td>June 19, 2011</td>\n",
       "      <td></td>\n",
       "    </tr>\n",
       "    <tr>\n",
       "      <th>3</th>\n",
       "      <td>The Legend of Zelda</td>\n",
       "      <td>When was the Legend of Zelda released?</td>\n",
       "      <td>The Legend of Zelda was released on August 22nd, 1987, for the Nin...</td>\n",
       "      <td>[August 22, 1987]</td>\n",
       "      <td>['It came out as early as 1986 for the Famicom in Japan, and was l...</td>\n",
       "      <td>one hundred years before the events of\\n   \\n    Breath of the Wild</td>\n",
       "      <td></td>\n",
       "    </tr>\n",
       "    <tr>\n",
       "      <th>4</th>\n",
       "      <td>The Legend of Zelda</td>\n",
       "      <td>What kind of game is The Legend of Zelda?</td>\n",
       "      <td>The Legend of Zelda is one that includes roleplaying, action, adve...</td>\n",
       "      <td>[The Legend of Zelda is the first installment of the Zelda series....</td>\n",
       "      <td>[one that includes roleplaying, action, adventure, and puzzle/logi...</td>\n",
       "      <td>multiplayer</td>\n",
       "      <td></td>\n",
       "    </tr>\n",
       "    <tr>\n",
       "      <th>...</th>\n",
       "      <td>...</td>\n",
       "      <td>...</td>\n",
       "      <td>...</td>\n",
       "      <td>...</td>\n",
       "      <td>...</td>\n",
       "      <td>...</td>\n",
       "      <td>...</td>\n",
       "    </tr>\n",
       "    <tr>\n",
       "      <th>208</th>\n",
       "      <td>Baseball</td>\n",
       "      <td>How many times have the new york yankees been to the world series?</td>\n",
       "      <td>48 times, which is a record actually. Indeed, They have won the wo...</td>\n",
       "      <td>[ 48]</td>\n",
       "      <td>[winning 27 World Series titles, Their 27 titles makes them the mo...</td>\n",
       "      <td>twelve</td>\n",
       "      <td></td>\n",
       "    </tr>\n",
       "    <tr>\n",
       "      <th>209</th>\n",
       "      <td>Baseball</td>\n",
       "      <td>Are the new york yankees based in new york?</td>\n",
       "      <td>Yes, the New York Yankees now play in New York City but were found...</td>\n",
       "      <td>[The New York Yankees are a Major League Baseball team, based in t...</td>\n",
       "      <td>[The club was founded in Baltimore , Maryland in 1901, and moved t...</td>\n",
       "      <td>New York Yankees\\n      \\n\\n\\n\\n\\n      One East 161st Street\\n   ...</td>\n",
       "      <td>✔️ [0.500]</td>\n",
       "    </tr>\n",
       "    <tr>\n",
       "      <th>210</th>\n",
       "      <td>Baseball</td>\n",
       "      <td>What sports league does the new York Yankees play in?</td>\n",
       "      <td>The Yankees play in Major League Baseball in the American League a...</td>\n",
       "      <td>[Major League Baseball]</td>\n",
       "      <td>[American League, They are also the only team represented in the B...</td>\n",
       "      <td>Major League Baseball</td>\n",
       "      <td>✔️ [0.500]</td>\n",
       "    </tr>\n",
       "    <tr>\n",
       "      <th>211</th>\n",
       "      <td>Baseball</td>\n",
       "      <td>who is the all time leader inh rbi's for the yankees?</td>\n",
       "      <td>Lou Gehrig is the all time leader in runs batted in for the Yankee...</td>\n",
       "      <td>[Lou Gehrig]</td>\n",
       "      <td>['Gehrig finished his career with a .340 AVG, 1,995 RBI', \"During ...</td>\n",
       "      <td>Hank Aaron</td>\n",
       "      <td></td>\n",
       "    </tr>\n",
       "    <tr>\n",
       "      <th>212</th>\n",
       "      <td>Baseball</td>\n",
       "      <td></td>\n",
       "      <td>The New York Yankees are a Major League Baseball team, based in th...</td>\n",
       "      <td>[The New York Yankees are a Major League Baseball team]</td>\n",
       "      <td>[based in the borough of The Bronx , in New York City ]</td>\n",
       "      <td>Ramírez Onelcida</td>\n",
       "      <td></td>\n",
       "    </tr>\n",
       "  </tbody>\n",
       "</table>\n",
       "<p>213 rows × 7 columns</p>\n",
       "</div>"
      ],
      "text/plain": [
       "                   topic  \\\n",
       "0    The Legend of Zelda   \n",
       "1    The Legend of Zelda   \n",
       "2    The Legend of Zelda   \n",
       "3    The Legend of Zelda   \n",
       "4    The Legend of Zelda   \n",
       "..                   ...   \n",
       "208             Baseball   \n",
       "209             Baseball   \n",
       "210             Baseball   \n",
       "211             Baseball   \n",
       "212             Baseball   \n",
       "\n",
       "                                                               question  \\\n",
       "0                           What year did the Legend of Zelda come out?   \n",
       "1                     What console is The Legend of Zelda designed for?   \n",
       "2                              when did the legend of zelda last until?   \n",
       "3                                When was the Legend of Zelda released?   \n",
       "4                             What kind of game is The Legend of Zelda?   \n",
       "..                                                                  ...   \n",
       "208  How many times have the new york yankees been to the world series?   \n",
       "209                         Are the new york yankees based in new york?   \n",
       "210              What sports league does the new York Yankees play in?    \n",
       "211               who is the all time leader inh rbi's for the yankees?   \n",
       "212                                                                       \n",
       "\n",
       "                                                          example_response  \\\n",
       "0    The Legend of Zelda came out as early as 1986 for the Famicom in J...   \n",
       "1    The Legend of Zelda was originally released in 1986 for the Famico...   \n",
       "2    The Legend of Zelda is the first installment in the Zelda franchis...   \n",
       "3    The Legend of Zelda was released on August 22nd, 1987, for the Nin...   \n",
       "4    The Legend of Zelda is one that includes roleplaying, action, adve...   \n",
       "..                                                                     ...   \n",
       "208  48 times, which is a record actually. Indeed, They have won the wo...   \n",
       "209  Yes, the New York Yankees now play in New York City but were found...   \n",
       "210  The Yankees play in Major League Baseball in the American League a...   \n",
       "211  Lou Gehrig is the all time leader in runs batted in for the Yankee...   \n",
       "212  The New York Yankees are a Major League Baseball team, based in th...   \n",
       "\n",
       "                                                                   literal  \\\n",
       "0    ['FDS release February 21, 1986\\n', 'The Legend of Zelda is the fi...   \n",
       "1    [' It came out as early as 1986 for the Famicom in Japan, and was ...   \n",
       "2    ['The Legend of Zelda is the first installment in the Zelda franch...   \n",
       "3                                                        [August 22, 1987]   \n",
       "4    [The Legend of Zelda is the first installment of the Zelda series....   \n",
       "..                                                                     ...   \n",
       "208                                                                  [ 48]   \n",
       "209  [The New York Yankees are a Major League Baseball team, based in t...   \n",
       "210                                                [Major League Baseball]   \n",
       "211                                                           [Lou Gehrig]   \n",
       "212                [The New York Yankees are a Major League Baseball team]   \n",
       "\n",
       "                                                                 pragmatic  \\\n",
       "0    ['It came out as early as 1986 for the Famicom in Japan, and was l...   \n",
       "1    ['The Legend of Zelda was commercially successful, selling a milli...   \n",
       "2                                 [Nintendo Switch Online, April 23, 2019]   \n",
       "3    ['It came out as early as 1986 for the Famicom in Japan, and was l...   \n",
       "4    [one that includes roleplaying, action, adventure, and puzzle/logi...   \n",
       "..                                                                     ...   \n",
       "208  [winning 27 World Series titles, Their 27 titles makes them the mo...   \n",
       "209  [The club was founded in Baltimore , Maryland in 1901, and moved t...   \n",
       "210  [American League, They are also the only team represented in the B...   \n",
       "211  ['Gehrig finished his career with a .340 AVG, 1,995 RBI', \"During ...   \n",
       "212                [based in the borough of The Bronx , in New York City ]   \n",
       "\n",
       "                                                             pred_response  \\\n",
       "0                                                                     1986   \n",
       "1                                                  Famicom\\n   Disk System   \n",
       "2                                                            June 19, 2011   \n",
       "3      one hundred years before the events of\\n   \\n    Breath of the Wild   \n",
       "4                                                              multiplayer   \n",
       "..                                                                     ...   \n",
       "208                                                                 twelve   \n",
       "209  New York Yankees\\n      \\n\\n\\n\\n\\n      One East 161st Street\\n   ...   \n",
       "210                                                  Major League Baseball   \n",
       "211                                                             Hank Aaron   \n",
       "212                                                       Ramírez Onelcida   \n",
       "\n",
       "     SemanticF1  \n",
       "0    ✔️ [0.500]  \n",
       "1    ✔️ [0.286]  \n",
       "2                \n",
       "3                \n",
       "4                \n",
       "..          ...  \n",
       "208              \n",
       "209  ✔️ [0.500]  \n",
       "210  ✔️ [0.500]  \n",
       "211              \n",
       "212              \n",
       "\n",
       "[213 rows x 7 columns]"
      ]
     },
     "metadata": {},
     "output_type": "display_data"
    },
    {
     "data": {
      "text/plain": [
       "10.49"
      ]
     },
     "execution_count": 9,
     "metadata": {},
     "output_type": "execute_result"
    }
   ],
   "source": [
    "evaluate(RAG(make_search), pcqa_test, \"eval_results_distilbert.pkl\")"
   ]
  },
  {
   "cell_type": "code",
   "execution_count": 10,
   "id": "3c99dc16",
   "metadata": {},
   "outputs": [
    {
     "name": "stderr",
     "output_type": "stream",
     "text": [
      "Device set to use cpu\n",
      "2025/08/24 23:24:55 ERROR dspy.utils.parallelizer: Error for Example({'topic': 'The Legend of Zelda', 'question': 'What year did the Legend of Zelda come out?', 'response': 'The Legend of Zelda came out as early as 1986 for the Famicom in Japan, and was later released in the western world, including Europe and the US in 1987. Would you like to know about the story?', 'literal': ['FDS release February 21, 1986\\n', 'The Legend of Zelda is the first installment of the Zelda series. ', ' It centers its plot around a boy named Link , who becomes the central protagonist throughout the series. '], 'pragmatic': ['It came out as early as 1986 for the Famicom in Japan, and was later released in the western world, including Europe and the US in 1987.']}) (input_keys={'pragmatic', 'topic', 'question', 'literal'}): 'list' object is not callable. Set `provide_traceback=True` for traceback.\n",
      "2025/08/24 23:24:55 ERROR dspy.utils.parallelizer: Error for Example({'topic': 'The Legend of Zelda', 'question': 'What console is The Legend of Zelda designed for?', 'response': \"The Legend of Zelda was originally released in 1986 for the Famicom in Japan and in 1987 for the NES in Europe and the US. Since it's release, The Legend of Zelda has been re-released several times, including ports for the GameCube and Game Boy Advance. The demand for these ports comes from the commercial success of Zelda, selling millions of copies nearly a year after it's initial release, the 4th best-selling NES game of all time.\", 'literal': [' It came out as early as 1986 for the Famicom in Japan, and was later released in the western world, including Europe and the US in 1987. It has since then been re-released several times, for the Nintendo GameCube as well as the Game Boy Advance .'], 'pragmatic': ['The Legend of Zelda was commercially successful, selling a million copies nearly a year after its release, and cumulating a total of 6.5 million copies worldwide', 'making it the fourth best-selling Nintendo Entertainment System game of all time', 'The NES Classic Edition includes The Legend of Zelda as one of the 30 games available.']}) (input_keys={'pragmatic', 'topic', 'question', 'literal'}): 'list' object is not callable. Set `provide_traceback=True` for traceback.\n",
      "2025/08/24 23:24:55 ERROR dspy.utils.parallelizer: Error for Example({'topic': 'The Legend of Zelda', 'question': 'when did the legend of zelda last until?', 'response': 'The Legend of Zelda is the first installment in the Zelda franchise, and its success allowed the development of sequels with nearly every title in the series influenced by this one. The latest installment of the series was with Nintendo Switch Online, released last on April 23, 2019.', 'literal': ['The Legend of Zelda is the first installment in the Zelda franchise, and its success allowed the development of sequels.', 'In one or another way, nearly every title in the series is influenced by this game'], 'pragmatic': ['Nintendo Switch Online', 'April 23, 2019']}) (input_keys={'pragmatic', 'topic', 'question', 'literal'}): 'list' object is not callable. Set `provide_traceback=True` for traceback.\n"
     ]
    },
    {
     "name": "stdout",
     "output_type": "stream",
     "text": [
      "  0%|                                                                                           | 0/213 [00:00<?, ?it/s]"
     ]
    },
    {
     "name": "stderr",
     "output_type": "stream",
     "text": [
      "2025/08/24 23:24:55 ERROR dspy.utils.parallelizer: Error for Example({'topic': 'The Legend of Zelda', 'question': 'When was the Legend of Zelda released?', 'response': 'The Legend of Zelda was released on August 22nd, 1987, for the Nintendo Entertainment System but was released as early as 1986 for the Famicon in Japan.', 'literal': ['August 22, 1987'], 'pragmatic': ['It came out as early as 1986 for the Famicom in Japan, and was later released in the western world, including Europe and the US in 1987.']}) (input_keys={'pragmatic', 'topic', 'question', 'literal'}): 'list' object is not callable. Set `provide_traceback=True` for traceback.\n"
     ]
    },
    {
     "name": "stdout",
     "output_type": "stream",
     "text": [
      "Average Metric: 0.00 / 0 (0%):   0%|                                                            | 0/213 [00:00<?, ?it/s]"
     ]
    },
    {
     "name": "stderr",
     "output_type": "stream",
     "text": [
      "2025/08/24 23:24:55 ERROR dspy.utils.parallelizer: Error for Example({'topic': 'The Legend of Zelda', 'question': 'What kind of game is The Legend of Zelda?', 'response': 'The Legend of Zelda is one that includes roleplaying, action, adventure, and puzzle/logic. It is the first installment of the Zelda series and centers its plot around a boy named Link.', 'literal': ['The Legend of Zelda is the first installment of the Zelda series. It centers its plot around a boy named Link , '], 'pragmatic': ['one that includes roleplaying, action, adventure, and puzzle/logic.\\n\\n']}) (input_keys={'pragmatic', 'topic', 'question', 'literal'}): 'list' object is not callable. Set `provide_traceback=True` for traceback.\n"
     ]
    },
    {
     "name": "stdout",
     "output_type": "stream",
     "text": [
      "Average Metric: 0.00 / 0 (0%):   1%|▋                                                  | 3/213 [00:00<00:00, 345.99it/s]"
     ]
    },
    {
     "name": "stderr",
     "output_type": "stream",
     "text": [
      "2025/08/24 23:24:55 WARNING dspy.utils.parallelizer: Execution cancelled due to errors or interruption.\n"
     ]
    },
    {
     "name": "stdout",
     "output_type": "stream",
     "text": [
      "\n"
     ]
    },
    {
     "ename": "Exception",
     "evalue": "Execution cancelled due to errors or interruption.",
     "output_type": "error",
     "traceback": [
      "\u001b[31m---------------------------------------------------------------------------\u001b[39m",
      "\u001b[31mException\u001b[39m                                 Traceback (most recent call last)",
      "\u001b[36mCell\u001b[39m\u001b[36m \u001b[39m\u001b[32mIn[10]\u001b[39m\u001b[32m, line 1\u001b[39m\n\u001b[32m----> \u001b[39m\u001b[32m1\u001b[39m \u001b[43mevaluate\u001b[49m\u001b[43m(\u001b[49m\u001b[43mRAG\u001b[49m\u001b[43m(\u001b[49m\u001b[43mget_literal\u001b[49m\u001b[43m)\u001b[49m\u001b[43m,\u001b[49m\u001b[43m \u001b[49m\u001b[43mpcqa_test\u001b[49m\u001b[43m,\u001b[49m\u001b[43m \u001b[49m\u001b[33;43m\"\u001b[39;49m\u001b[33;43meval_results_literal.pkl\u001b[39;49m\u001b[33;43m\"\u001b[39;49m\u001b[43m)\u001b[49m\n",
      "\u001b[36mCell\u001b[39m\u001b[36m \u001b[39m\u001b[32mIn[5]\u001b[39m\u001b[32m, line 11\u001b[39m, in \u001b[36mevaluate\u001b[39m\u001b[34m(model, example_set, save_path)\u001b[39m\n\u001b[32m      9\u001b[39m     results = pickle.load(save_path)\n\u001b[32m     10\u001b[39m \u001b[38;5;28;01melse\u001b[39;00m:\n\u001b[32m---> \u001b[39m\u001b[32m11\u001b[39m     results = \u001b[43mevaluator\u001b[49m\u001b[43m(\u001b[49m\u001b[43mmodel\u001b[49m\u001b[43m)\u001b[49m\n\u001b[32m     12\u001b[39m     \u001b[38;5;28;01mwith\u001b[39;00m \u001b[38;5;28mopen\u001b[39m(save_path, \u001b[33m\"\u001b[39m\u001b[33mwb\u001b[39m\u001b[33m\"\u001b[39m) \u001b[38;5;28;01mas\u001b[39;00m f:\n\u001b[32m     13\u001b[39m         pickle.dump(results, f)\n",
      "\u001b[36mFile \u001b[39m\u001b[32m~/LLMs/hw3/nlp-with-llms-2025-hw3/.venv/lib/python3.11/site-packages/dspy/utils/callback.py:326\u001b[39m, in \u001b[36mwith_callbacks.<locals>.sync_wrapper\u001b[39m\u001b[34m(instance, *args, **kwargs)\u001b[39m\n\u001b[32m    324\u001b[39m callbacks = _get_active_callbacks(instance)\n\u001b[32m    325\u001b[39m \u001b[38;5;28;01mif\u001b[39;00m \u001b[38;5;129;01mnot\u001b[39;00m callbacks:\n\u001b[32m--> \u001b[39m\u001b[32m326\u001b[39m     \u001b[38;5;28;01mreturn\u001b[39;00m \u001b[43mfn\u001b[49m\u001b[43m(\u001b[49m\u001b[43minstance\u001b[49m\u001b[43m,\u001b[49m\u001b[43m \u001b[49m\u001b[43m*\u001b[49m\u001b[43margs\u001b[49m\u001b[43m,\u001b[49m\u001b[43m \u001b[49m\u001b[43m*\u001b[49m\u001b[43m*\u001b[49m\u001b[43mkwargs\u001b[49m\u001b[43m)\u001b[49m\n\u001b[32m    328\u001b[39m call_id = uuid.uuid4().hex\n\u001b[32m    330\u001b[39m _execute_start_callbacks(instance, fn, call_id, callbacks, args, kwargs)\n",
      "\u001b[36mFile \u001b[39m\u001b[32m~/LLMs/hw3/nlp-with-llms-2025-hw3/.venv/lib/python3.11/site-packages/dspy/evaluate/evaluate.py:171\u001b[39m, in \u001b[36mEvaluate.__call__\u001b[39m\u001b[34m(self, program, metric, devset, num_threads, display_progress, display_table, return_all_scores, return_outputs, callback_metadata)\u001b[39m\n\u001b[32m    167\u001b[39m         program._suggest_failures += dspy.settings.get(\u001b[33m\"\u001b[39m\u001b[33msuggest_failures\u001b[39m\u001b[33m\"\u001b[39m)\n\u001b[32m    169\u001b[39m     \u001b[38;5;28;01mreturn\u001b[39;00m prediction, score\n\u001b[32m--> \u001b[39m\u001b[32m171\u001b[39m results = \u001b[43mexecutor\u001b[49m\u001b[43m.\u001b[49m\u001b[43mexecute\u001b[49m\u001b[43m(\u001b[49m\u001b[43mprocess_item\u001b[49m\u001b[43m,\u001b[49m\u001b[43m \u001b[49m\u001b[43mdevset\u001b[49m\u001b[43m)\u001b[49m\n\u001b[32m    172\u001b[39m \u001b[38;5;28;01massert\u001b[39;00m \u001b[38;5;28mlen\u001b[39m(devset) == \u001b[38;5;28mlen\u001b[39m(results)\n\u001b[32m    174\u001b[39m results = [((dspy.Prediction(), \u001b[38;5;28mself\u001b[39m.failure_score) \u001b[38;5;28;01mif\u001b[39;00m r \u001b[38;5;129;01mis\u001b[39;00m \u001b[38;5;28;01mNone\u001b[39;00m \u001b[38;5;28;01melse\u001b[39;00m r) \u001b[38;5;28;01mfor\u001b[39;00m r \u001b[38;5;129;01min\u001b[39;00m results]\n",
      "\u001b[36mFile \u001b[39m\u001b[32m~/LLMs/hw3/nlp-with-llms-2025-hw3/.venv/lib/python3.11/site-packages/dspy/utils/parallelizer.py:48\u001b[39m, in \u001b[36mParallelExecutor.execute\u001b[39m\u001b[34m(self, function, data)\u001b[39m\n\u001b[32m     46\u001b[39m tqdm.tqdm._instances.clear()\n\u001b[32m     47\u001b[39m wrapped = \u001b[38;5;28mself\u001b[39m._wrap_function(function)\n\u001b[32m---> \u001b[39m\u001b[32m48\u001b[39m \u001b[38;5;28;01mreturn\u001b[39;00m \u001b[38;5;28;43mself\u001b[39;49m\u001b[43m.\u001b[49m\u001b[43m_execute_parallel\u001b[49m\u001b[43m(\u001b[49m\u001b[43mwrapped\u001b[49m\u001b[43m,\u001b[49m\u001b[43m \u001b[49m\u001b[43mdata\u001b[49m\u001b[43m)\u001b[49m\n",
      "\u001b[36mFile \u001b[39m\u001b[32m~/LLMs/hw3/nlp-with-llms-2025-hw3/.venv/lib/python3.11/site-packages/dspy/utils/parallelizer.py:203\u001b[39m, in \u001b[36mParallelExecutor._execute_parallel\u001b[39m\u001b[34m(self, function, data)\u001b[39m\n\u001b[32m    201\u001b[39m \u001b[38;5;28;01mif\u001b[39;00m \u001b[38;5;28mself\u001b[39m.cancel_jobs.is_set():\n\u001b[32m    202\u001b[39m     logger.warning(\u001b[33m\"\u001b[39m\u001b[33mExecution cancelled due to errors or interruption.\u001b[39m\u001b[33m\"\u001b[39m)\n\u001b[32m--> \u001b[39m\u001b[32m203\u001b[39m     \u001b[38;5;28;01mraise\u001b[39;00m \u001b[38;5;167;01mException\u001b[39;00m(\u001b[33m\"\u001b[39m\u001b[33mExecution cancelled due to errors or interruption.\u001b[39m\u001b[33m\"\u001b[39m)\n\u001b[32m    205\u001b[39m \u001b[38;5;28;01mreturn\u001b[39;00m results\n",
      "\u001b[31mException\u001b[39m: Execution cancelled due to errors or interruption."
     ]
    }
   ],
   "source": [
    "evaluate(RAG(get_literal), pcqa_test, \"eval_results_literal.pkl\")"
   ]
  },
  {
   "cell_type": "code",
   "execution_count": null,
   "id": "89568c0d",
   "metadata": {},
   "outputs": [],
   "source": [
    "evaluate(RAG(get_pragmatic), pcqa_test, \"eval_results_pragmatic.pkl\")"
   ]
  },
  {
   "cell_type": "code",
   "execution_count": null,
   "id": "e4360a11-66f6-4a0d-85f4-5a894cc55e8c",
   "metadata": {},
   "outputs": [],
   "source": []
  },
  {
   "cell_type": "code",
   "execution_count": null,
   "id": "2aca9667-1325-40a0-b5b8-53285922ad0e",
   "metadata": {},
   "outputs": [],
   "source": []
  },
  {
   "cell_type": "code",
   "execution_count": null,
   "id": "3d40a9de-70dd-485a-bdf5-1c094f642553",
   "metadata": {},
   "outputs": [],
   "source": []
  },
  {
   "cell_type": "code",
   "execution_count": null,
   "id": "f8bed2f3-b869-41de-8dbc-3a697eb66891",
   "metadata": {},
   "outputs": [],
   "source": []
  },
  {
   "cell_type": "code",
   "execution_count": null,
   "id": "113fc90f-dc6b-48f7-b03a-7aa4e8956f6b",
   "metadata": {},
   "outputs": [],
   "source": []
  }
 ],
 "metadata": {
  "kernelspec": {
   "display_name": "Python (.venv)",
   "language": "python",
   "name": "nlp-venv"
  },
  "language_info": {
   "codemirror_mode": {
    "name": "ipython",
    "version": 3
   },
   "file_extension": ".py",
   "mimetype": "text/x-python",
   "name": "python",
   "nbconvert_exporter": "python",
   "pygments_lexer": "ipython3",
   "version": "3.11.13"
  }
 },
 "nbformat": 4,
 "nbformat_minor": 5
}
