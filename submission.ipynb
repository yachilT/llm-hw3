{
 "cells": [
  {
   "cell_type": "markdown",
   "id": "4a42c8e3",
   "metadata": {},
   "source": [
    "## 4.3 The Traditional NLP Approach"
   ]
  },
  {
   "cell_type": "markdown",
   "id": "7d5d3eff",
   "metadata": {},
   "source": [
    "### dspy module"
   ]
  },
  {
   "cell_type": "code",
   "execution_count": 1,
   "id": "af978385",
   "metadata": {},
   "outputs": [],
   "source": [
    "import dspy\n",
    "from sentence_transformers import SentenceTransformer\n",
    "from transformers import pipeline\n",
    "lm = dspy.LM('xai/grok-3-mini', max_tokens=6000, temperature=0.1, top_p=0.9)\n",
    "dspy.configure(lm=lm)"
   ]
  },
  {
   "cell_type": "code",
   "execution_count": 2,
   "id": "04ca91ec",
   "metadata": {},
   "outputs": [],
   "source": [
    "class RAG(dspy.Module):\n",
    "    def __init__(self, make_search):\n",
    "        self.make_search = make_search\n",
    "        self.respond = pipeline(\"question-answering\", model='distilbert-base-cased-distilled-squad')\n",
    "\n",
    "    def forward(self, topic, question, literal, pragmatic):\n",
    "        search = self.make_search(topic, literal, pragmatic)\n",
    "        context = \" \".join(search(question))\n",
    "        output = self.respond(context=context, question=question)\n",
    "        return dspy.Prediction(response=output['answer'])"
   ]
  },
  {
   "cell_type": "markdown",
   "id": "c377457b",
   "metadata": {},
   "source": [
    "### test set as list of `dspy.Example`"
   ]
  },
  {
   "cell_type": "code",
   "execution_count": 3,
   "id": "48bff5fd",
   "metadata": {},
   "outputs": [],
   "source": [
    "import json\n",
    "import os\n",
    "def get_conversations_set(filename, dataset_dir=\"../PragmatiCQA/data\"):\n",
    "    conversations = []\n",
    "    with open(os.path.join(dataset_dir, filename), 'r') as f:\n",
    "        for line in f:\n",
    "            conversations.append(json.loads(line))\n",
    "    return [dspy.Example(topic=d['community'],\n",
    "                        question=d['qas'][0]['q'], \n",
    "                        response=d['qas'][0]['a'],\n",
    "                        literal=[text['text'] for text in d['qas'][0]['a_meta']['literal_obj']],\n",
    "                        pragmatic=[text['text'] for text in d['qas'][0]['a_meta']['pragmatic_obj']]).with_inputs('question', 'topic', 'literal', 'pragmatic') for d in conversations]\n",
    "\n",
    "pcqa_test = get_conversations_set(\"test.jsonl\")"
   ]
  },
  {
   "cell_type": "markdown",
   "id": "46da7d98",
   "metadata": {},
   "source": [
    "### Evaluation of a model based on example set"
   ]
  },
  {
   "cell_type": "code",
   "execution_count": 4,
   "id": "c9edc0b0",
   "metadata": {},
   "outputs": [],
   "source": [
    "from dspy.evaluate import SemanticF1, Evaluate\n",
    "import pickle\n",
    "import os\n",
    "def evaluate(model, example_set, save_path):\n",
    "    metric = SemanticF1(decompositional=True)\n",
    "\n",
    "    evaluator = Evaluate(devset=example_set, metric=metric, num_threads=1, display_progress=True, display_table=True, provide_feedback=True)\n",
    "    results = None\n",
    "    if os.path.exists(save_path):\n",
    "        results = pickle.load(save_path)\n",
    "    else:\n",
    "        results = evaluator(model)\n",
    "        with open(save_path, \"wb\") as f:\n",
    "            pickle.dump(results, f)\n",
    "\n",
    "    return results"
   ]
  },
  {
   "cell_type": "markdown",
   "id": "11d3b951",
   "metadata": {},
   "source": [
    "### Getting-Context Methods"
   ]
  },
  {
   "cell_type": "code",
   "execution_count": 5,
   "id": "6856f25f",
   "metadata": {},
   "outputs": [],
   "source": [
    "# Traverse a directory and read html files - extract text from the html files\n",
    "from bs4 import BeautifulSoup\n",
    "import os\n",
    "def read_html_files(dir_name, directory=\"../PragmatiCQA-sources\"):\n",
    "    texts = []\n",
    "    for filename in os.listdir(os.path.join(directory, dir_name)):\n",
    "        if filename.endswith(\".html\"):\n",
    "            with open(os.path.join(directory, dir_name, filename), 'r', encoding='utf-8') as file:\n",
    "                soup = BeautifulSoup(file, 'html.parser')\n",
    "                texts.append(soup.get_text())\n",
    "    return texts\n",
    "\n",
    "model = SentenceTransformer(\"sentence-transformers/static-retrieval-mrl-en-v1\", device=\"cpu\")\n",
    "embedder = dspy.Embedder(model.encode)\n",
    "def make_search(topic=None, literal=None, pragmatic=None, k=5):\n",
    "    corpus = read_html_files(topic)\n",
    "    max_characters = 10000 \n",
    "    search = dspy.retrievers.Embeddings(embedder=embedder, corpus=corpus, k=k, brute_force_threshold=max_characters)\n",
    "    return lambda q: search(q).passages\n",
    "\n",
    "\n",
    "def get_literal(topic, literal, pragmatic):\n",
    "    return lambda q: literal\n",
    "\n",
    "def get_pragmatic(topic, literal, pragmatic):\n",
    "    return lambda q: pragmatic"
   ]
  },
  {
   "cell_type": "markdown",
   "id": "eb3c2c07",
   "metadata": {},
   "source": [
    "### Retrieved Answer"
   ]
  },
  {
   "cell_type": "code",
   "execution_count": 9,
   "id": "7c5ee254",
   "metadata": {},
   "outputs": [
    {
     "name": "stderr",
     "output_type": "stream",
     "text": [
      "Device set to use cpu\n"
     ]
    },
    {
     "name": "stdout",
     "output_type": "stream",
     "text": [
      "Average Metric: 22.34 / 213 (10.5%): 100%|███████████████████████████████████████████████████████████████████████████████████████████████████████████████████████████████████| 213/213 [2:09:47<00:00, 36.56s/it]"
     ]
    },
    {
     "name": "stderr",
     "output_type": "stream",
     "text": [
      "2025/08/24 23:21:18 INFO dspy.evaluate.evaluate: Average Metric: 22.341969801856195 / 213 (10.5%)\n"
     ]
    },
    {
     "name": "stdout",
     "output_type": "stream",
     "text": [
      "\n"
     ]
    },
    {
     "data": {
      "text/html": [
       "<div>\n",
       "<style scoped>\n",
       "    .dataframe tbody tr th:only-of-type {\n",
       "        vertical-align: middle;\n",
       "    }\n",
       "\n",
       "    .dataframe tbody tr th {\n",
       "        vertical-align: top;\n",
       "    }\n",
       "\n",
       "    .dataframe thead th {\n",
       "        text-align: right;\n",
       "    }\n",
       "</style>\n",
       "<table border=\"1\" class=\"dataframe\">\n",
       "  <thead>\n",
       "    <tr style=\"text-align: right;\">\n",
       "      <th></th>\n",
       "      <th>topic</th>\n",
       "      <th>question</th>\n",
       "      <th>example_response</th>\n",
       "      <th>literal</th>\n",
       "      <th>pragmatic</th>\n",
       "      <th>pred_response</th>\n",
       "      <th>SemanticF1</th>\n",
       "    </tr>\n",
       "  </thead>\n",
       "  <tbody>\n",
       "    <tr>\n",
       "      <th>0</th>\n",
       "      <td>The Legend of Zelda</td>\n",
       "      <td>What year did the Legend of Zelda come out?</td>\n",
       "      <td>The Legend of Zelda came out as early as 1986 for the Famicom in J...</td>\n",
       "      <td>['FDS release February 21, 1986\\n', 'The Legend of Zelda is the fi...</td>\n",
       "      <td>['It came out as early as 1986 for the Famicom in Japan, and was l...</td>\n",
       "      <td>1986</td>\n",
       "      <td>✔️ [0.500]</td>\n",
       "    </tr>\n",
       "    <tr>\n",
       "      <th>1</th>\n",
       "      <td>The Legend of Zelda</td>\n",
       "      <td>What console is The Legend of Zelda designed for?</td>\n",
       "      <td>The Legend of Zelda was originally released in 1986 for the Famico...</td>\n",
       "      <td>[' It came out as early as 1986 for the Famicom in Japan, and was ...</td>\n",
       "      <td>['The Legend of Zelda was commercially successful, selling a milli...</td>\n",
       "      <td>Famicom\\n   Disk System</td>\n",
       "      <td>✔️ [0.286]</td>\n",
       "    </tr>\n",
       "    <tr>\n",
       "      <th>2</th>\n",
       "      <td>The Legend of Zelda</td>\n",
       "      <td>when did the legend of zelda last until?</td>\n",
       "      <td>The Legend of Zelda is the first installment in the Zelda franchis...</td>\n",
       "      <td>['The Legend of Zelda is the first installment in the Zelda franch...</td>\n",
       "      <td>[Nintendo Switch Online, April 23, 2019]</td>\n",
       "      <td>June 19, 2011</td>\n",
       "      <td></td>\n",
       "    </tr>\n",
       "    <tr>\n",
       "      <th>3</th>\n",
       "      <td>The Legend of Zelda</td>\n",
       "      <td>When was the Legend of Zelda released?</td>\n",
       "      <td>The Legend of Zelda was released on August 22nd, 1987, for the Nin...</td>\n",
       "      <td>[August 22, 1987]</td>\n",
       "      <td>['It came out as early as 1986 for the Famicom in Japan, and was l...</td>\n",
       "      <td>one hundred years before the events of\\n   \\n    Breath of the Wild</td>\n",
       "      <td></td>\n",
       "    </tr>\n",
       "    <tr>\n",
       "      <th>4</th>\n",
       "      <td>The Legend of Zelda</td>\n",
       "      <td>What kind of game is The Legend of Zelda?</td>\n",
       "      <td>The Legend of Zelda is one that includes roleplaying, action, adve...</td>\n",
       "      <td>[The Legend of Zelda is the first installment of the Zelda series....</td>\n",
       "      <td>[one that includes roleplaying, action, adventure, and puzzle/logi...</td>\n",
       "      <td>multiplayer</td>\n",
       "      <td></td>\n",
       "    </tr>\n",
       "    <tr>\n",
       "      <th>...</th>\n",
       "      <td>...</td>\n",
       "      <td>...</td>\n",
       "      <td>...</td>\n",
       "      <td>...</td>\n",
       "      <td>...</td>\n",
       "      <td>...</td>\n",
       "      <td>...</td>\n",
       "    </tr>\n",
       "    <tr>\n",
       "      <th>208</th>\n",
       "      <td>Baseball</td>\n",
       "      <td>How many times have the new york yankees been to the world series?</td>\n",
       "      <td>48 times, which is a record actually. Indeed, They have won the wo...</td>\n",
       "      <td>[ 48]</td>\n",
       "      <td>[winning 27 World Series titles, Their 27 titles makes them the mo...</td>\n",
       "      <td>twelve</td>\n",
       "      <td></td>\n",
       "    </tr>\n",
       "    <tr>\n",
       "      <th>209</th>\n",
       "      <td>Baseball</td>\n",
       "      <td>Are the new york yankees based in new york?</td>\n",
       "      <td>Yes, the New York Yankees now play in New York City but were found...</td>\n",
       "      <td>[The New York Yankees are a Major League Baseball team, based in t...</td>\n",
       "      <td>[The club was founded in Baltimore , Maryland in 1901, and moved t...</td>\n",
       "      <td>New York Yankees\\n      \\n\\n\\n\\n\\n      One East 161st Street\\n   ...</td>\n",
       "      <td>✔️ [0.500]</td>\n",
       "    </tr>\n",
       "    <tr>\n",
       "      <th>210</th>\n",
       "      <td>Baseball</td>\n",
       "      <td>What sports league does the new York Yankees play in?</td>\n",
       "      <td>The Yankees play in Major League Baseball in the American League a...</td>\n",
       "      <td>[Major League Baseball]</td>\n",
       "      <td>[American League, They are also the only team represented in the B...</td>\n",
       "      <td>Major League Baseball</td>\n",
       "      <td>✔️ [0.500]</td>\n",
       "    </tr>\n",
       "    <tr>\n",
       "      <th>211</th>\n",
       "      <td>Baseball</td>\n",
       "      <td>who is the all time leader inh rbi's for the yankees?</td>\n",
       "      <td>Lou Gehrig is the all time leader in runs batted in for the Yankee...</td>\n",
       "      <td>[Lou Gehrig]</td>\n",
       "      <td>['Gehrig finished his career with a .340 AVG, 1,995 RBI', \"During ...</td>\n",
       "      <td>Hank Aaron</td>\n",
       "      <td></td>\n",
       "    </tr>\n",
       "    <tr>\n",
       "      <th>212</th>\n",
       "      <td>Baseball</td>\n",
       "      <td></td>\n",
       "      <td>The New York Yankees are a Major League Baseball team, based in th...</td>\n",
       "      <td>[The New York Yankees are a Major League Baseball team]</td>\n",
       "      <td>[based in the borough of The Bronx , in New York City ]</td>\n",
       "      <td>Ramírez Onelcida</td>\n",
       "      <td></td>\n",
       "    </tr>\n",
       "  </tbody>\n",
       "</table>\n",
       "<p>213 rows × 7 columns</p>\n",
       "</div>"
      ],
      "text/plain": [
       "                   topic  \\\n",
       "0    The Legend of Zelda   \n",
       "1    The Legend of Zelda   \n",
       "2    The Legend of Zelda   \n",
       "3    The Legend of Zelda   \n",
       "4    The Legend of Zelda   \n",
       "..                   ...   \n",
       "208             Baseball   \n",
       "209             Baseball   \n",
       "210             Baseball   \n",
       "211             Baseball   \n",
       "212             Baseball   \n",
       "\n",
       "                                                               question  \\\n",
       "0                           What year did the Legend of Zelda come out?   \n",
       "1                     What console is The Legend of Zelda designed for?   \n",
       "2                              when did the legend of zelda last until?   \n",
       "3                                When was the Legend of Zelda released?   \n",
       "4                             What kind of game is The Legend of Zelda?   \n",
       "..                                                                  ...   \n",
       "208  How many times have the new york yankees been to the world series?   \n",
       "209                         Are the new york yankees based in new york?   \n",
       "210              What sports league does the new York Yankees play in?    \n",
       "211               who is the all time leader inh rbi's for the yankees?   \n",
       "212                                                                       \n",
       "\n",
       "                                                          example_response  \\\n",
       "0    The Legend of Zelda came out as early as 1986 for the Famicom in J...   \n",
       "1    The Legend of Zelda was originally released in 1986 for the Famico...   \n",
       "2    The Legend of Zelda is the first installment in the Zelda franchis...   \n",
       "3    The Legend of Zelda was released on August 22nd, 1987, for the Nin...   \n",
       "4    The Legend of Zelda is one that includes roleplaying, action, adve...   \n",
       "..                                                                     ...   \n",
       "208  48 times, which is a record actually. Indeed, They have won the wo...   \n",
       "209  Yes, the New York Yankees now play in New York City but were found...   \n",
       "210  The Yankees play in Major League Baseball in the American League a...   \n",
       "211  Lou Gehrig is the all time leader in runs batted in for the Yankee...   \n",
       "212  The New York Yankees are a Major League Baseball team, based in th...   \n",
       "\n",
       "                                                                   literal  \\\n",
       "0    ['FDS release February 21, 1986\\n', 'The Legend of Zelda is the fi...   \n",
       "1    [' It came out as early as 1986 for the Famicom in Japan, and was ...   \n",
       "2    ['The Legend of Zelda is the first installment in the Zelda franch...   \n",
       "3                                                        [August 22, 1987]   \n",
       "4    [The Legend of Zelda is the first installment of the Zelda series....   \n",
       "..                                                                     ...   \n",
       "208                                                                  [ 48]   \n",
       "209  [The New York Yankees are a Major League Baseball team, based in t...   \n",
       "210                                                [Major League Baseball]   \n",
       "211                                                           [Lou Gehrig]   \n",
       "212                [The New York Yankees are a Major League Baseball team]   \n",
       "\n",
       "                                                                 pragmatic  \\\n",
       "0    ['It came out as early as 1986 for the Famicom in Japan, and was l...   \n",
       "1    ['The Legend of Zelda was commercially successful, selling a milli...   \n",
       "2                                 [Nintendo Switch Online, April 23, 2019]   \n",
       "3    ['It came out as early as 1986 for the Famicom in Japan, and was l...   \n",
       "4    [one that includes roleplaying, action, adventure, and puzzle/logi...   \n",
       "..                                                                     ...   \n",
       "208  [winning 27 World Series titles, Their 27 titles makes them the mo...   \n",
       "209  [The club was founded in Baltimore , Maryland in 1901, and moved t...   \n",
       "210  [American League, They are also the only team represented in the B...   \n",
       "211  ['Gehrig finished his career with a .340 AVG, 1,995 RBI', \"During ...   \n",
       "212                [based in the borough of The Bronx , in New York City ]   \n",
       "\n",
       "                                                             pred_response  \\\n",
       "0                                                                     1986   \n",
       "1                                                  Famicom\\n   Disk System   \n",
       "2                                                            June 19, 2011   \n",
       "3      one hundred years before the events of\\n   \\n    Breath of the Wild   \n",
       "4                                                              multiplayer   \n",
       "..                                                                     ...   \n",
       "208                                                                 twelve   \n",
       "209  New York Yankees\\n      \\n\\n\\n\\n\\n      One East 161st Street\\n   ...   \n",
       "210                                                  Major League Baseball   \n",
       "211                                                             Hank Aaron   \n",
       "212                                                       Ramírez Onelcida   \n",
       "\n",
       "     SemanticF1  \n",
       "0    ✔️ [0.500]  \n",
       "1    ✔️ [0.286]  \n",
       "2                \n",
       "3                \n",
       "4                \n",
       "..          ...  \n",
       "208              \n",
       "209  ✔️ [0.500]  \n",
       "210  ✔️ [0.500]  \n",
       "211              \n",
       "212              \n",
       "\n",
       "[213 rows x 7 columns]"
      ]
     },
     "metadata": {},
     "output_type": "display_data"
    },
    {
     "data": {
      "text/plain": [
       "10.49"
      ]
     },
     "execution_count": 9,
     "metadata": {},
     "output_type": "execute_result"
    }
   ],
   "source": [
    "evaluate(RAG(make_search), pcqa_test, \"eval_results_distilbert.pkl\")"
   ]
  },
  {
   "cell_type": "markdown",
   "id": "1cbdc017",
   "metadata": {},
   "source": [
    "### Literal Answer"
   ]
  },
  {
   "cell_type": "code",
   "execution_count": 14,
   "id": "3c99dc16",
   "metadata": {},
   "outputs": [
    {
     "name": "stderr",
     "output_type": "stream",
     "text": [
      "Device set to use cpu\n"
     ]
    },
    {
     "name": "stdout",
     "output_type": "stream",
     "text": [
      "Average Metric: 86.80 / 213 (40.8%): 100%|████████████████████████████████████████████| 213/213 [34:46<00:00,  9.80s/it]"
     ]
    },
    {
     "name": "stderr",
     "output_type": "stream",
     "text": [
      "2025/08/25 00:01:53 INFO dspy.evaluate.evaluate: Average Metric: 86.79994056425019 / 213 (40.8%)\n"
     ]
    },
    {
     "name": "stdout",
     "output_type": "stream",
     "text": [
      "\n"
     ]
    },
    {
     "data": {
      "text/html": [
       "<div>\n",
       "<style scoped>\n",
       "    .dataframe tbody tr th:only-of-type {\n",
       "        vertical-align: middle;\n",
       "    }\n",
       "\n",
       "    .dataframe tbody tr th {\n",
       "        vertical-align: top;\n",
       "    }\n",
       "\n",
       "    .dataframe thead th {\n",
       "        text-align: right;\n",
       "    }\n",
       "</style>\n",
       "<table border=\"1\" class=\"dataframe\">\n",
       "  <thead>\n",
       "    <tr style=\"text-align: right;\">\n",
       "      <th></th>\n",
       "      <th>topic</th>\n",
       "      <th>question</th>\n",
       "      <th>example_response</th>\n",
       "      <th>literal</th>\n",
       "      <th>pragmatic</th>\n",
       "      <th>pred_response</th>\n",
       "      <th>SemanticF1</th>\n",
       "    </tr>\n",
       "  </thead>\n",
       "  <tbody>\n",
       "    <tr>\n",
       "      <th>0</th>\n",
       "      <td>The Legend of Zelda</td>\n",
       "      <td>What year did the Legend of Zelda come out?</td>\n",
       "      <td>The Legend of Zelda came out as early as 1986 for the Famicom in J...</td>\n",
       "      <td>['FDS release February 21, 1986\\n', 'The Legend of Zelda is the fi...</td>\n",
       "      <td>['It came out as early as 1986 for the Famicom in Japan, and was l...</td>\n",
       "      <td>1986</td>\n",
       "      <td>✔️ [0.500]</td>\n",
       "    </tr>\n",
       "    <tr>\n",
       "      <th>1</th>\n",
       "      <td>The Legend of Zelda</td>\n",
       "      <td>What console is The Legend of Zelda designed for?</td>\n",
       "      <td>The Legend of Zelda was originally released in 1986 for the Famico...</td>\n",
       "      <td>[' It came out as early as 1986 for the Famicom in Japan, and was ...</td>\n",
       "      <td>['The Legend of Zelda was commercially successful, selling a milli...</td>\n",
       "      <td>Famicom</td>\n",
       "      <td>✔️ [0.250]</td>\n",
       "    </tr>\n",
       "    <tr>\n",
       "      <th>2</th>\n",
       "      <td>The Legend of Zelda</td>\n",
       "      <td>when did the legend of zelda last until?</td>\n",
       "      <td>The Legend of Zelda is the first installment in the Zelda franchis...</td>\n",
       "      <td>['The Legend of Zelda is the first installment in the Zelda franch...</td>\n",
       "      <td>[Nintendo Switch Online, April 23, 2019]</td>\n",
       "      <td>first installment in the Zelda franchise</td>\n",
       "      <td>✔️ [0.333]</td>\n",
       "    </tr>\n",
       "    <tr>\n",
       "      <th>3</th>\n",
       "      <td>The Legend of Zelda</td>\n",
       "      <td>When was the Legend of Zelda released?</td>\n",
       "      <td>The Legend of Zelda was released on August 22nd, 1987, for the Nin...</td>\n",
       "      <td>[August 22, 1987]</td>\n",
       "      <td>['It came out as early as 1986 for the Famicom in Japan, and was l...</td>\n",
       "      <td>August 22, 1987</td>\n",
       "      <td>✔️ [0.667]</td>\n",
       "    </tr>\n",
       "    <tr>\n",
       "      <th>4</th>\n",
       "      <td>The Legend of Zelda</td>\n",
       "      <td>What kind of game is The Legend of Zelda?</td>\n",
       "      <td>The Legend of Zelda is one that includes roleplaying, action, adve...</td>\n",
       "      <td>[The Legend of Zelda is the first installment of the Zelda series....</td>\n",
       "      <td>[one that includes roleplaying, action, adventure, and puzzle/logi...</td>\n",
       "      <td>Zelda</td>\n",
       "      <td>✔️ [0.286]</td>\n",
       "    </tr>\n",
       "    <tr>\n",
       "      <th>...</th>\n",
       "      <td>...</td>\n",
       "      <td>...</td>\n",
       "      <td>...</td>\n",
       "      <td>...</td>\n",
       "      <td>...</td>\n",
       "      <td>...</td>\n",
       "      <td>...</td>\n",
       "    </tr>\n",
       "    <tr>\n",
       "      <th>208</th>\n",
       "      <td>Baseball</td>\n",
       "      <td>How many times have the new york yankees been to the world series?</td>\n",
       "      <td>48 times, which is a record actually. Indeed, They have won the wo...</td>\n",
       "      <td>[ 48]</td>\n",
       "      <td>[winning 27 World Series titles, Their 27 titles makes them the mo...</td>\n",
       "      <td>48</td>\n",
       "      <td>✔️ [0.400]</td>\n",
       "    </tr>\n",
       "    <tr>\n",
       "      <th>209</th>\n",
       "      <td>Baseball</td>\n",
       "      <td>Are the new york yankees based in new york?</td>\n",
       "      <td>Yes, the New York Yankees now play in New York City but were found...</td>\n",
       "      <td>[The New York Yankees are a Major League Baseball team, based in t...</td>\n",
       "      <td>[The club was founded in Baltimore , Maryland in 1901, and moved t...</td>\n",
       "      <td>The New York Yankees</td>\n",
       "      <td>✔️ [0.500]</td>\n",
       "    </tr>\n",
       "    <tr>\n",
       "      <th>210</th>\n",
       "      <td>Baseball</td>\n",
       "      <td>What sports league does the new York Yankees play in?</td>\n",
       "      <td>The Yankees play in Major League Baseball in the American League a...</td>\n",
       "      <td>[Major League Baseball]</td>\n",
       "      <td>[American League, They are also the only team represented in the B...</td>\n",
       "      <td>Major League Baseball</td>\n",
       "      <td>✔️ [0.500]</td>\n",
       "    </tr>\n",
       "    <tr>\n",
       "      <th>211</th>\n",
       "      <td>Baseball</td>\n",
       "      <td>who is the all time leader inh rbi's for the yankees?</td>\n",
       "      <td>Lou Gehrig is the all time leader in runs batted in for the Yankee...</td>\n",
       "      <td>[Lou Gehrig]</td>\n",
       "      <td>['Gehrig finished his career with a .340 AVG, 1,995 RBI', \"During ...</td>\n",
       "      <td>Lou Gehrig</td>\n",
       "      <td>✔️ [0.286]</td>\n",
       "    </tr>\n",
       "    <tr>\n",
       "      <th>212</th>\n",
       "      <td>Baseball</td>\n",
       "      <td></td>\n",
       "      <td>The New York Yankees are a Major League Baseball team, based in th...</td>\n",
       "      <td>[The New York Yankees are a Major League Baseball team]</td>\n",
       "      <td>[based in the borough of The Bronx , in New York City ]</td>\n",
       "      <td>New York Yankees</td>\n",
       "      <td>✔️ [0.500]</td>\n",
       "    </tr>\n",
       "  </tbody>\n",
       "</table>\n",
       "<p>213 rows × 7 columns</p>\n",
       "</div>"
      ],
      "text/plain": [
       "                   topic  \\\n",
       "0    The Legend of Zelda   \n",
       "1    The Legend of Zelda   \n",
       "2    The Legend of Zelda   \n",
       "3    The Legend of Zelda   \n",
       "4    The Legend of Zelda   \n",
       "..                   ...   \n",
       "208             Baseball   \n",
       "209             Baseball   \n",
       "210             Baseball   \n",
       "211             Baseball   \n",
       "212             Baseball   \n",
       "\n",
       "                                                               question  \\\n",
       "0                           What year did the Legend of Zelda come out?   \n",
       "1                     What console is The Legend of Zelda designed for?   \n",
       "2                              when did the legend of zelda last until?   \n",
       "3                                When was the Legend of Zelda released?   \n",
       "4                             What kind of game is The Legend of Zelda?   \n",
       "..                                                                  ...   \n",
       "208  How many times have the new york yankees been to the world series?   \n",
       "209                         Are the new york yankees based in new york?   \n",
       "210              What sports league does the new York Yankees play in?    \n",
       "211               who is the all time leader inh rbi's for the yankees?   \n",
       "212                                                                       \n",
       "\n",
       "                                                          example_response  \\\n",
       "0    The Legend of Zelda came out as early as 1986 for the Famicom in J...   \n",
       "1    The Legend of Zelda was originally released in 1986 for the Famico...   \n",
       "2    The Legend of Zelda is the first installment in the Zelda franchis...   \n",
       "3    The Legend of Zelda was released on August 22nd, 1987, for the Nin...   \n",
       "4    The Legend of Zelda is one that includes roleplaying, action, adve...   \n",
       "..                                                                     ...   \n",
       "208  48 times, which is a record actually. Indeed, They have won the wo...   \n",
       "209  Yes, the New York Yankees now play in New York City but were found...   \n",
       "210  The Yankees play in Major League Baseball in the American League a...   \n",
       "211  Lou Gehrig is the all time leader in runs batted in for the Yankee...   \n",
       "212  The New York Yankees are a Major League Baseball team, based in th...   \n",
       "\n",
       "                                                                   literal  \\\n",
       "0    ['FDS release February 21, 1986\\n', 'The Legend of Zelda is the fi...   \n",
       "1    [' It came out as early as 1986 for the Famicom in Japan, and was ...   \n",
       "2    ['The Legend of Zelda is the first installment in the Zelda franch...   \n",
       "3                                                        [August 22, 1987]   \n",
       "4    [The Legend of Zelda is the first installment of the Zelda series....   \n",
       "..                                                                     ...   \n",
       "208                                                                  [ 48]   \n",
       "209  [The New York Yankees are a Major League Baseball team, based in t...   \n",
       "210                                                [Major League Baseball]   \n",
       "211                                                           [Lou Gehrig]   \n",
       "212                [The New York Yankees are a Major League Baseball team]   \n",
       "\n",
       "                                                                 pragmatic  \\\n",
       "0    ['It came out as early as 1986 for the Famicom in Japan, and was l...   \n",
       "1    ['The Legend of Zelda was commercially successful, selling a milli...   \n",
       "2                                 [Nintendo Switch Online, April 23, 2019]   \n",
       "3    ['It came out as early as 1986 for the Famicom in Japan, and was l...   \n",
       "4    [one that includes roleplaying, action, adventure, and puzzle/logi...   \n",
       "..                                                                     ...   \n",
       "208  [winning 27 World Series titles, Their 27 titles makes them the mo...   \n",
       "209  [The club was founded in Baltimore , Maryland in 1901, and moved t...   \n",
       "210  [American League, They are also the only team represented in the B...   \n",
       "211  ['Gehrig finished his career with a .340 AVG, 1,995 RBI', \"During ...   \n",
       "212                [based in the borough of The Bronx , in New York City ]   \n",
       "\n",
       "                                pred_response  SemanticF1  \n",
       "0                                        1986  ✔️ [0.500]  \n",
       "1                                     Famicom  ✔️ [0.250]  \n",
       "2    first installment in the Zelda franchise  ✔️ [0.333]  \n",
       "3                             August 22, 1987  ✔️ [0.667]  \n",
       "4                                       Zelda  ✔️ [0.286]  \n",
       "..                                        ...         ...  \n",
       "208                                        48  ✔️ [0.400]  \n",
       "209                      The New York Yankees  ✔️ [0.500]  \n",
       "210                     Major League Baseball  ✔️ [0.500]  \n",
       "211                                Lou Gehrig  ✔️ [0.286]  \n",
       "212                          New York Yankees  ✔️ [0.500]  \n",
       "\n",
       "[213 rows x 7 columns]"
      ]
     },
     "metadata": {},
     "output_type": "display_data"
    },
    {
     "data": {
      "text/plain": [
       "40.75"
      ]
     },
     "execution_count": 14,
     "metadata": {},
     "output_type": "execute_result"
    }
   ],
   "source": [
    "evaluate(RAG(get_literal), pcqa_test, \"eval_results_literal.pkl\")"
   ]
  },
  {
   "cell_type": "markdown",
   "id": "ec497c62",
   "metadata": {},
   "source": [
    "### Pragmatic Answer"
   ]
  },
  {
   "cell_type": "code",
   "execution_count": 15,
   "id": "89568c0d",
   "metadata": {},
   "outputs": [
    {
     "name": "stderr",
     "output_type": "stream",
     "text": [
      "Device set to use cpu\n"
     ]
    },
    {
     "name": "stdout",
     "output_type": "stream",
     "text": [
      "Average Metric: 74.43 / 213 (34.9%): 100%|████████████████████████████████████████████| 213/213 [31:15<00:00,  8.81s/it]"
     ]
    },
    {
     "name": "stderr",
     "output_type": "stream",
     "text": [
      "2025/08/25 00:33:10 INFO dspy.evaluate.evaluate: Average Metric: 74.42974948540159 / 213 (34.9%)\n"
     ]
    },
    {
     "name": "stdout",
     "output_type": "stream",
     "text": [
      "\n"
     ]
    },
    {
     "data": {
      "text/html": [
       "<div>\n",
       "<style scoped>\n",
       "    .dataframe tbody tr th:only-of-type {\n",
       "        vertical-align: middle;\n",
       "    }\n",
       "\n",
       "    .dataframe tbody tr th {\n",
       "        vertical-align: top;\n",
       "    }\n",
       "\n",
       "    .dataframe thead th {\n",
       "        text-align: right;\n",
       "    }\n",
       "</style>\n",
       "<table border=\"1\" class=\"dataframe\">\n",
       "  <thead>\n",
       "    <tr style=\"text-align: right;\">\n",
       "      <th></th>\n",
       "      <th>topic</th>\n",
       "      <th>question</th>\n",
       "      <th>example_response</th>\n",
       "      <th>literal</th>\n",
       "      <th>pragmatic</th>\n",
       "      <th>pred_response</th>\n",
       "      <th>SemanticF1</th>\n",
       "    </tr>\n",
       "  </thead>\n",
       "  <tbody>\n",
       "    <tr>\n",
       "      <th>0</th>\n",
       "      <td>The Legend of Zelda</td>\n",
       "      <td>What year did the Legend of Zelda come out?</td>\n",
       "      <td>The Legend of Zelda came out as early as 1986 for the Famicom in J...</td>\n",
       "      <td>['FDS release February 21, 1986\\n', 'The Legend of Zelda is the fi...</td>\n",
       "      <td>['It came out as early as 1986 for the Famicom in Japan, and was l...</td>\n",
       "      <td>1986</td>\n",
       "      <td>✔️ [0.500]</td>\n",
       "    </tr>\n",
       "    <tr>\n",
       "      <th>1</th>\n",
       "      <td>The Legend of Zelda</td>\n",
       "      <td>What console is The Legend of Zelda designed for?</td>\n",
       "      <td>The Legend of Zelda was originally released in 1986 for the Famico...</td>\n",
       "      <td>[' It came out as early as 1986 for the Famicom in Japan, and was ...</td>\n",
       "      <td>['The Legend of Zelda was commercially successful, selling a milli...</td>\n",
       "      <td>Nintendo Entertainment System</td>\n",
       "      <td>✔️ [0.333]</td>\n",
       "    </tr>\n",
       "    <tr>\n",
       "      <th>2</th>\n",
       "      <td>The Legend of Zelda</td>\n",
       "      <td>when did the legend of zelda last until?</td>\n",
       "      <td>The Legend of Zelda is the first installment in the Zelda franchis...</td>\n",
       "      <td>['The Legend of Zelda is the first installment in the Zelda franch...</td>\n",
       "      <td>[Nintendo Switch Online, April 23, 2019]</td>\n",
       "      <td>April 23, 2019</td>\n",
       "      <td>✔️ [0.400]</td>\n",
       "    </tr>\n",
       "    <tr>\n",
       "      <th>3</th>\n",
       "      <td>The Legend of Zelda</td>\n",
       "      <td>When was the Legend of Zelda released?</td>\n",
       "      <td>The Legend of Zelda was released on August 22nd, 1987, for the Nin...</td>\n",
       "      <td>[August 22, 1987]</td>\n",
       "      <td>['It came out as early as 1986 for the Famicom in Japan, and was l...</td>\n",
       "      <td>1987</td>\n",
       "      <td>✔️ [0.667]</td>\n",
       "    </tr>\n",
       "    <tr>\n",
       "      <th>4</th>\n",
       "      <td>The Legend of Zelda</td>\n",
       "      <td>What kind of game is The Legend of Zelda?</td>\n",
       "      <td>The Legend of Zelda is one that includes roleplaying, action, adve...</td>\n",
       "      <td>[The Legend of Zelda is the first installment of the Zelda series....</td>\n",
       "      <td>[one that includes roleplaying, action, adventure, and puzzle/logi...</td>\n",
       "      <td>roleplaying</td>\n",
       "      <td>✔️ [0.286]</td>\n",
       "    </tr>\n",
       "    <tr>\n",
       "      <th>...</th>\n",
       "      <td>...</td>\n",
       "      <td>...</td>\n",
       "      <td>...</td>\n",
       "      <td>...</td>\n",
       "      <td>...</td>\n",
       "      <td>...</td>\n",
       "      <td>...</td>\n",
       "    </tr>\n",
       "    <tr>\n",
       "      <th>208</th>\n",
       "      <td>Baseball</td>\n",
       "      <td>How many times have the new york yankees been to the world series?</td>\n",
       "      <td>48 times, which is a record actually. Indeed, They have won the wo...</td>\n",
       "      <td>[ 48]</td>\n",
       "      <td>[winning 27 World Series titles, Their 27 titles makes them the mo...</td>\n",
       "      <td>27</td>\n",
       "      <td>✔️ [0.400]</td>\n",
       "    </tr>\n",
       "    <tr>\n",
       "      <th>209</th>\n",
       "      <td>Baseball</td>\n",
       "      <td>Are the new york yankees based in new york?</td>\n",
       "      <td>Yes, the New York Yankees now play in New York City but were found...</td>\n",
       "      <td>[The New York Yankees are a Major League Baseball team, based in t...</td>\n",
       "      <td>[The club was founded in Baltimore , Maryland in 1901, and moved t...</td>\n",
       "      <td>New York in 1903.</td>\n",
       "      <td>✔️ [0.400]</td>\n",
       "    </tr>\n",
       "    <tr>\n",
       "      <th>210</th>\n",
       "      <td>Baseball</td>\n",
       "      <td>What sports league does the new York Yankees play in?</td>\n",
       "      <td>The Yankees play in Major League Baseball in the American League a...</td>\n",
       "      <td>[Major League Baseball]</td>\n",
       "      <td>[American League, They are also the only team represented in the B...</td>\n",
       "      <td>American League</td>\n",
       "      <td>✔️ [0.500]</td>\n",
       "    </tr>\n",
       "    <tr>\n",
       "      <th>211</th>\n",
       "      <td>Baseball</td>\n",
       "      <td>who is the all time leader inh rbi's for the yankees?</td>\n",
       "      <td>Lou Gehrig is the all time leader in runs batted in for the Yankee...</td>\n",
       "      <td>[Lou Gehrig]</td>\n",
       "      <td>['Gehrig finished his career with a .340 AVG, 1,995 RBI', \"During ...</td>\n",
       "      <td>Gehrig</td>\n",
       "      <td>✔️ [0.286]</td>\n",
       "    </tr>\n",
       "    <tr>\n",
       "      <th>212</th>\n",
       "      <td>Baseball</td>\n",
       "      <td></td>\n",
       "      <td>The New York Yankees are a Major League Baseball team, based in th...</td>\n",
       "      <td>[The New York Yankees are a Major League Baseball team]</td>\n",
       "      <td>[based in the borough of The Bronx , in New York City ]</td>\n",
       "      <td>The Bronx</td>\n",
       "      <td>✔️ [0.500]</td>\n",
       "    </tr>\n",
       "  </tbody>\n",
       "</table>\n",
       "<p>213 rows × 7 columns</p>\n",
       "</div>"
      ],
      "text/plain": [
       "                   topic  \\\n",
       "0    The Legend of Zelda   \n",
       "1    The Legend of Zelda   \n",
       "2    The Legend of Zelda   \n",
       "3    The Legend of Zelda   \n",
       "4    The Legend of Zelda   \n",
       "..                   ...   \n",
       "208             Baseball   \n",
       "209             Baseball   \n",
       "210             Baseball   \n",
       "211             Baseball   \n",
       "212             Baseball   \n",
       "\n",
       "                                                               question  \\\n",
       "0                           What year did the Legend of Zelda come out?   \n",
       "1                     What console is The Legend of Zelda designed for?   \n",
       "2                              when did the legend of zelda last until?   \n",
       "3                                When was the Legend of Zelda released?   \n",
       "4                             What kind of game is The Legend of Zelda?   \n",
       "..                                                                  ...   \n",
       "208  How many times have the new york yankees been to the world series?   \n",
       "209                         Are the new york yankees based in new york?   \n",
       "210              What sports league does the new York Yankees play in?    \n",
       "211               who is the all time leader inh rbi's for the yankees?   \n",
       "212                                                                       \n",
       "\n",
       "                                                          example_response  \\\n",
       "0    The Legend of Zelda came out as early as 1986 for the Famicom in J...   \n",
       "1    The Legend of Zelda was originally released in 1986 for the Famico...   \n",
       "2    The Legend of Zelda is the first installment in the Zelda franchis...   \n",
       "3    The Legend of Zelda was released on August 22nd, 1987, for the Nin...   \n",
       "4    The Legend of Zelda is one that includes roleplaying, action, adve...   \n",
       "..                                                                     ...   \n",
       "208  48 times, which is a record actually. Indeed, They have won the wo...   \n",
       "209  Yes, the New York Yankees now play in New York City but were found...   \n",
       "210  The Yankees play in Major League Baseball in the American League a...   \n",
       "211  Lou Gehrig is the all time leader in runs batted in for the Yankee...   \n",
       "212  The New York Yankees are a Major League Baseball team, based in th...   \n",
       "\n",
       "                                                                   literal  \\\n",
       "0    ['FDS release February 21, 1986\\n', 'The Legend of Zelda is the fi...   \n",
       "1    [' It came out as early as 1986 for the Famicom in Japan, and was ...   \n",
       "2    ['The Legend of Zelda is the first installment in the Zelda franch...   \n",
       "3                                                        [August 22, 1987]   \n",
       "4    [The Legend of Zelda is the first installment of the Zelda series....   \n",
       "..                                                                     ...   \n",
       "208                                                                  [ 48]   \n",
       "209  [The New York Yankees are a Major League Baseball team, based in t...   \n",
       "210                                                [Major League Baseball]   \n",
       "211                                                           [Lou Gehrig]   \n",
       "212                [The New York Yankees are a Major League Baseball team]   \n",
       "\n",
       "                                                                 pragmatic  \\\n",
       "0    ['It came out as early as 1986 for the Famicom in Japan, and was l...   \n",
       "1    ['The Legend of Zelda was commercially successful, selling a milli...   \n",
       "2                                 [Nintendo Switch Online, April 23, 2019]   \n",
       "3    ['It came out as early as 1986 for the Famicom in Japan, and was l...   \n",
       "4    [one that includes roleplaying, action, adventure, and puzzle/logi...   \n",
       "..                                                                     ...   \n",
       "208  [winning 27 World Series titles, Their 27 titles makes them the mo...   \n",
       "209  [The club was founded in Baltimore , Maryland in 1901, and moved t...   \n",
       "210  [American League, They are also the only team represented in the B...   \n",
       "211  ['Gehrig finished his career with a .340 AVG, 1,995 RBI', \"During ...   \n",
       "212                [based in the borough of The Bronx , in New York City ]   \n",
       "\n",
       "                     pred_response  SemanticF1  \n",
       "0                             1986  ✔️ [0.500]  \n",
       "1    Nintendo Entertainment System  ✔️ [0.333]  \n",
       "2                   April 23, 2019  ✔️ [0.400]  \n",
       "3                             1987  ✔️ [0.667]  \n",
       "4                      roleplaying  ✔️ [0.286]  \n",
       "..                             ...         ...  \n",
       "208                             27  ✔️ [0.400]  \n",
       "209              New York in 1903.  ✔️ [0.400]  \n",
       "210                American League  ✔️ [0.500]  \n",
       "211                         Gehrig  ✔️ [0.286]  \n",
       "212                      The Bronx  ✔️ [0.500]  \n",
       "\n",
       "[213 rows x 7 columns]"
      ]
     },
     "metadata": {},
     "output_type": "display_data"
    },
    {
     "data": {
      "text/plain": [
       "34.94"
      ]
     },
     "execution_count": 15,
     "metadata": {},
     "output_type": "execute_result"
    }
   ],
   "source": [
    "evaluate(RAG(get_pragmatic), pcqa_test, \"eval_results_pragmatic.pkl\")"
   ]
  },
  {
   "cell_type": "markdown",
   "id": "2a800cbc",
   "metadata": {},
   "source": [
    "## 4.4 Multi Step LLM "
   ]
  },
  {
   "cell_type": "markdown",
   "id": "fa3844d1",
   "metadata": {},
   "source": [
    "### Signatures"
   ]
  },
  {
   "cell_type": "code",
   "execution_count": 6,
   "id": "e4360a11-66f6-4a0d-85f4-5a894cc55e8c",
   "metadata": {},
   "outputs": [],
   "source": [
    "import dspy\n",
    "\n",
    "# --- Intermediates ---\n",
    "class SummarizeGoal(dspy.Signature):\n",
    "    \"\"\"Summarize the student's long-term goal or interest from the dialogue history to guide cooperative answering.\"\"\"\n",
    "    history = dspy.InputField(desc=\"list of (question, answer) strings from prior turns\")\n",
    "    goal_summary = dspy.OutputField(desc=\"concise 1-3 sentence summary of the student's goal, preferences, constraints\")\n",
    "\n",
    "class InferNeed(dspy.Signature):\n",
    "    \"\"\"Infer the pragmatic, cooperative need underlying the current question, using history and retrieved context.\"\"\"\n",
    "    history = dspy.InputField()\n",
    "    question = dspy.InputField()\n",
    "    context = dspy.InputField()\n",
    "    need = dspy.OutputField(desc=\"brief description of what the student is really trying to accomplish right now\")\n",
    "\n",
    "class GenerateCoopQuery(dspy.Signature):\n",
    "    \"\"\"Generate a cooperative follow-up query that would retrieve missing or clarifying info from the corpus.\"\"\"\n",
    "    history = dspy.InputField()\n",
    "    question = dspy.InputField()\n",
    "    need = dspy.InputField()\n",
    "    coop_query = dspy.OutputField(desc=\"a single, highly targeted search query or question to re-query the corpus\")\n",
    "\n",
    "# --- Final answering step with CoT ---\n",
    "class CooperativeAnswer(dspy.Signature):\n",
    "    \"\"\"Produce a cooperative, step-by-step answer grounded in all context, surfacing assumptions and next steps.\"\"\"\n",
    "    history = dspy.InputField()\n",
    "    question = dspy.InputField()\n",
    "    goal_summary = dspy.InputField()\n",
    "    need = dspy.InputField()\n",
    "    context = dspy.InputField(desc=\"initial retrieved context\")\n",
    "    extra_context = dspy.InputField(desc=\"additional context retrieved via the cooperative query\")\n",
    "    answer = dspy.OutputField(desc=\"final cooperative answer with citations if helpful\")\n"
   ]
  },
  {
   "cell_type": "markdown",
   "id": "cd125fcf",
   "metadata": {},
   "source": [
    "### Module"
   ]
  },
  {
   "cell_type": "code",
   "execution_count": 7,
   "id": "2aca9667-1325-40a0-b5b8-53285922ad0e",
   "metadata": {},
   "outputs": [],
   "source": [
    "class CooperativeRAG(dspy.Module):\n",
    "    def __init__(self, make_search, k_initial=6, k_extra=4):\n",
    "        super().__init__()\n",
    "        self.make_search = make_search\n",
    "        self.k_initial = k_initial\n",
    "        self.k_extra = k_extra\n",
    "\n",
    "        # Submodules (you can swap these for Instruct/Refine variants if you like)\n",
    "        self.summarize_goal = dspy.Predict(SummarizeGoal)\n",
    "        self.infer_need = dspy.Predict(InferNeed)\n",
    "        self.generate_coop_query = dspy.Predict(GenerateCoopQuery)\n",
    "        # Chain-of-Thought final step\n",
    "        self.answerer = dspy.ChainOfThought(CooperativeAnswer)\n",
    "\n",
    "    def _format_history(self, history_pairs):\n",
    "        # history_pairs: list[{\"question\": str, \"answer\": str}]\n",
    "        lines = []\n",
    "        for i, t in enumerate(history_pairs, 1):\n",
    "            q = t.get(\"question\", \"\").strip()\n",
    "            a = t.get(\"answer\", \"\").strip()\n",
    "            lines.append(f\"Turn {i} - Q: {q}\\nTurn {i} - A: {a}\")\n",
    "        return \"\\n\".join(lines) if lines else \"No prior turns.\"\n",
    "\n",
    "    def _retrieve_initial(self, topic, question):\n",
    "        search = self.make_search(topic=topic, k=self.k_initial)\n",
    "        docs = search(question)\n",
    "        return \"\\n\\n\".join(docs)\n",
    "\n",
    "    def _retrieve_extra(self, topic, coop_query):\n",
    "        if not coop_query or coop_query.strip() == \"\":\n",
    "            return \"\"\n",
    "        \n",
    "        search = self.make_search(topic=topic, k=self.k_extra)\n",
    "        docs = search(coop_query)\n",
    "        return \"\\n\\n\".join(docs)\n",
    "\n",
    "    def forward(self, topic, question, history):\n",
    "        # 1) Format inputs\n",
    "        history_text = self._format_history(history)\n",
    "\n",
    "        # 2) Initial retrieval (if you prefer to pipe in context externally, you can)\n",
    "        initial_context = self._retrieve_initial(topic, question)\n",
    "\n",
    "        # 3) Intermediates\n",
    "        goal = self.summarize_goal(history=history_text).goal_summary\n",
    "        need = self.infer_need(history=history_text, question=question, context=initial_context).need\n",
    "        coop_query = self.generate_coop_query(history=history_text, question=question, need=need).coop_query\n",
    "\n",
    "        # 4) Extra retrieval using cooperative query\n",
    "        extra_context = self._retrieve_extra(topic, coop_query)\n",
    "\n",
    "        # 5) Final, cooperative answer\n",
    "        result = self.answerer(\n",
    "            history=history_text,\n",
    "            question=question,\n",
    "            goal_summary=goal,\n",
    "            need=need,\n",
    "            context=initial_context,\n",
    "            extra_context=extra_context\n",
    "        )\n",
    "\n",
    "        return dspy.Prediction(\n",
    "            goal_summary=goal,\n",
    "            need=need,\n",
    "            coop_query=coop_query,\n",
    "            response=result.answer\n",
    "        )"
   ]
  },
  {
   "cell_type": "markdown",
   "id": "e44f0492",
   "metadata": {},
   "source": [
    "### 4.4.1 First questions"
   ]
  },
  {
   "cell_type": "code",
   "execution_count": null,
   "id": "0df2f2c6",
   "metadata": {},
   "outputs": [
    {
     "ename": "",
     "evalue": "",
     "output_type": "error",
     "traceback": [
      "\u001b[1;31mThe Kernel crashed while executing code in the current cell or a previous cell. \n",
      "\u001b[1;31mPlease review the code in the cell(s) to identify a possible cause of the failure. \n",
      "\u001b[1;31mClick <a href='https://aka.ms/vscodeJupyterKernelCrash'>here</a> for more info. \n",
      "\u001b[1;31mView Jupyter <a href='command:jupyter.viewOutput'>log</a> for further details."
     ]
    }
   ],
   "source": [
    "\n",
    "def get_first_qs(filename, dataset_dir=\"../PragmatiCQA/data\"):\n",
    "    conversations = []\n",
    "    with open(os.path.join(dataset_dir, filename), 'r') as f:\n",
    "        for line in f:\n",
    "            conversations.append(json.loads(line))\n",
    "    return [dspy.Example(topic=d['community'],\n",
    "                        question=d['qas'][0]['q'], \n",
    "                        response=d['qas'][0]['a'],\n",
    "                        history=[]).with_inputs('question', 'topic', 'history') for d in conversations]\n",
    "\n",
    "\n",
    "first_qs = get_first_qs(\"test.jsonl\")"
   ]
  },
  {
   "cell_type": "code",
   "execution_count": null,
   "id": "3d40a9de-70dd-485a-bdf5-1c094f642553",
   "metadata": {},
   "outputs": [
    {
     "name": "stdout",
     "output_type": "stream",
     "text": [
      "  0%|          | 0/213 [00:00<?, ?it/s]"
     ]
    },
    {
     "name": "stderr",
     "output_type": "stream",
     "text": [
      "2025/08/26 18:29:06 WARNING dspy.clients.lm: LM response was truncated due to exceeding max_tokens=6000. You can inspect the latest LM interactions with `dspy.inspect_history()`. To avoid truncation, consider passing a larger max_tokens when setting up dspy.LM. You may also consider increasing the temperature (currently 0.1)  if the reason for truncation is repetition.\n",
      "2025/08/26 18:29:06 WARNING dspy.adapters.json_adapter: Failed to use structured output format, falling back to JSON mode.\n"
     ]
    },
    {
     "name": "stdout",
     "output_type": "stream",
     "text": [
      "Average Metric: 0.57 / 1 (57.1%):   0%|          | 1/213 [02:20<8:15:26, 140.22s/it]"
     ]
    },
    {
     "name": "stderr",
     "output_type": "stream",
     "text": [
      "2025/08/26 18:30:39 WARNING dspy.clients.lm: LM response was truncated due to exceeding max_tokens=6000. You can inspect the latest LM interactions with `dspy.inspect_history()`. To avoid truncation, consider passing a larger max_tokens when setting up dspy.LM. You may also consider increasing the temperature (currently 0.1)  if the reason for truncation is repetition.\n",
      "2025/08/26 18:30:39 WARNING dspy.adapters.json_adapter: Failed to use structured output format, falling back to JSON mode.\n"
     ]
    },
    {
     "name": "stdout",
     "output_type": "stream",
     "text": [
      "Average Metric: 1.12 / 2 (55.8%):   1%|          | 2/213 [04:22<7:35:42, 129.59s/it]"
     ]
    },
    {
     "name": "stderr",
     "output_type": "stream",
     "text": [
      "2025/08/26 18:32:46 WARNING dspy.clients.lm: LM response was truncated due to exceeding max_tokens=6000. You can inspect the latest LM interactions with `dspy.inspect_history()`. To avoid truncation, consider passing a larger max_tokens when setting up dspy.LM. You may also consider increasing the temperature (currently 0.1)  if the reason for truncation is repetition.\n",
      "2025/08/26 18:32:46 WARNING dspy.adapters.json_adapter: Failed to use structured output format, falling back to JSON mode.\n",
      "2025/08/26 18:34:17 WARNING dspy.clients.lm: LM response was truncated due to exceeding max_tokens=6000. You can inspect the latest LM interactions with `dspy.inspect_history()`. To avoid truncation, consider passing a larger max_tokens when setting up dspy.LM. You may also consider increasing the temperature (currently 0.1)  if the reason for truncation is repetition.\n",
      "2025/08/26 18:34:17 WARNING dspy.adapters.json_adapter: Failed to use structured output format, falling back to JSON mode.\n"
     ]
    },
    {
     "name": "stdout",
     "output_type": "stream",
     "text": [
      "Average Metric: 2.48 / 7 (35.4%):   3%|▎         | 7/213 [12:17<4:54:52, 85.89s/it] "
     ]
    },
    {
     "name": "stderr",
     "output_type": "stream",
     "text": [
      "2025/08/26 18:40:47 WARNING dspy.clients.lm: LM response was truncated due to exceeding max_tokens=6000. You can inspect the latest LM interactions with `dspy.inspect_history()`. To avoid truncation, consider passing a larger max_tokens when setting up dspy.LM. You may also consider increasing the temperature (currently 0.1)  if the reason for truncation is repetition.\n",
      "2025/08/26 18:40:47 WARNING dspy.adapters.json_adapter: Failed to use structured output format, falling back to JSON mode.\n",
      "2025/08/26 18:42:13 WARNING dspy.clients.lm: LM response was truncated due to exceeding max_tokens=6000. You can inspect the latest LM interactions with `dspy.inspect_history()`. To avoid truncation, consider passing a larger max_tokens when setting up dspy.LM. You may also consider increasing the temperature (currently 0.1)  if the reason for truncation is repetition.\n",
      "2025/08/26 18:42:13 WARNING dspy.adapters.json_adapter: Failed to use structured output format, falling back to JSON mode.\n"
     ]
    },
    {
     "name": "stdout",
     "output_type": "stream",
     "text": [
      "Average Metric: 3.41 / 9 (37.9%):   4%|▍         | 9/213 [16:39<5:54:39, 104.31s/it]"
     ]
    },
    {
     "name": "stderr",
     "output_type": "stream",
     "text": [
      "2025/08/26 18:45:04 WARNING dspy.clients.lm: LM response was truncated due to exceeding max_tokens=6000. You can inspect the latest LM interactions with `dspy.inspect_history()`. To avoid truncation, consider passing a larger max_tokens when setting up dspy.LM. You may also consider increasing the temperature (currently 0.1)  if the reason for truncation is repetition.\n",
      "2025/08/26 18:45:04 WARNING dspy.adapters.json_adapter: Failed to use structured output format, falling back to JSON mode.\n"
     ]
    },
    {
     "name": "stdout",
     "output_type": "stream",
     "text": [
      "Average Metric: 5.26 / 13 (40.5%):   6%|▌         | 13/213 [23:01<5:14:29, 94.35s/it] "
     ]
    },
    {
     "name": "stderr",
     "output_type": "stream",
     "text": [
      "2025/08/26 18:51:29 WARNING dspy.clients.lm: LM response was truncated due to exceeding max_tokens=6000. You can inspect the latest LM interactions with `dspy.inspect_history()`. To avoid truncation, consider passing a larger max_tokens when setting up dspy.LM. You may also consider increasing the temperature (currently 0.1)  if the reason for truncation is repetition.\n",
      "2025/08/26 18:51:29 WARNING dspy.adapters.json_adapter: Failed to use structured output format, falling back to JSON mode.\n"
     ]
    },
    {
     "name": "stdout",
     "output_type": "stream",
     "text": [
      "Average Metric: 5.81 / 14 (41.5%):   7%|▋         | 14/213 [25:20<5:57:02, 107.65s/it]"
     ]
    },
    {
     "name": "stderr",
     "output_type": "stream",
     "text": [
      "2025/08/26 18:53:46 WARNING dspy.clients.lm: LM response was truncated due to exceeding max_tokens=6000. You can inspect the latest LM interactions with `dspy.inspect_history()`. To avoid truncation, consider passing a larger max_tokens when setting up dspy.LM. You may also consider increasing the temperature (currently 0.1)  if the reason for truncation is repetition.\n",
      "2025/08/26 18:53:46 WARNING dspy.adapters.json_adapter: Failed to use structured output format, falling back to JSON mode.\n",
      "2025/08/26 18:55:18 WARNING dspy.clients.lm: LM response was truncated due to exceeding max_tokens=6000. You can inspect the latest LM interactions with `dspy.inspect_history()`. To avoid truncation, consider passing a larger max_tokens when setting up dspy.LM. You may also consider increasing the temperature (currently 0.1)  if the reason for truncation is repetition.\n",
      "2025/08/26 18:55:18 WARNING dspy.adapters.json_adapter: Failed to use structured output format, falling back to JSON mode.\n"
     ]
    },
    {
     "name": "stdout",
     "output_type": "stream",
     "text": [
      "Average Metric: 6.21 / 15 (41.4%):   7%|▋         | 15/213 [28:35<7:22:19, 134.04s/it]"
     ]
    },
    {
     "name": "stderr",
     "output_type": "stream",
     "text": [
      "2025/08/26 18:57:07 WARNING dspy.clients.lm: LM response was truncated due to exceeding max_tokens=6000. You can inspect the latest LM interactions with `dspy.inspect_history()`. To avoid truncation, consider passing a larger max_tokens when setting up dspy.LM. You may also consider increasing the temperature (currently 0.1)  if the reason for truncation is repetition.\n",
      "2025/08/26 18:57:07 WARNING dspy.adapters.json_adapter: Failed to use structured output format, falling back to JSON mode.\n"
     ]
    },
    {
     "name": "stdout",
     "output_type": "stream",
     "text": [
      "Average Metric: 7.00 / 17 (41.2%):   8%|▊         | 17/213 [32:04<6:20:04, 116.35s/it]"
     ]
    },
    {
     "name": "stderr",
     "output_type": "stream",
     "text": [
      "2025/08/26 18:59:35 WARNING dspy.clients.lm: LM response was truncated due to exceeding max_tokens=6000. You can inspect the latest LM interactions with `dspy.inspect_history()`. To avoid truncation, consider passing a larger max_tokens when setting up dspy.LM. You may also consider increasing the temperature (currently 0.1)  if the reason for truncation is repetition.\n",
      "2025/08/26 18:59:35 WARNING dspy.adapters.json_adapter: Failed to use structured output format, falling back to JSON mode.\n"
     ]
    },
    {
     "name": "stdout",
     "output_type": "stream",
     "text": [
      "Average Metric: 7.89 / 19 (41.5%):   9%|▉         | 19/213 [34:26<5:06:19, 94.74s/it] "
     ]
    },
    {
     "name": "stderr",
     "output_type": "stream",
     "text": [
      "2025/08/26 19:02:51 WARNING dspy.clients.lm: LM response was truncated due to exceeding max_tokens=6000. You can inspect the latest LM interactions with `dspy.inspect_history()`. To avoid truncation, consider passing a larger max_tokens when setting up dspy.LM. You may also consider increasing the temperature (currently 0.1)  if the reason for truncation is repetition.\n",
      "2025/08/26 19:02:51 WARNING dspy.adapters.json_adapter: Failed to use structured output format, falling back to JSON mode.\n",
      "2025/08/26 19:04:11 WARNING dspy.clients.lm: LM response was truncated due to exceeding max_tokens=6000. You can inspect the latest LM interactions with `dspy.inspect_history()`. To avoid truncation, consider passing a larger max_tokens when setting up dspy.LM. You may also consider increasing the temperature (currently 0.1)  if the reason for truncation is repetition.\n",
      "2025/08/26 19:04:11 WARNING dspy.adapters.json_adapter: Failed to use structured output format, falling back to JSON mode.\n"
     ]
    },
    {
     "name": "stdout",
     "output_type": "stream",
     "text": [
      "Average Metric: 8.40 / 20 (42.0%):   9%|▉         | 20/213 [37:28<6:28:57, 120.92s/it]"
     ]
    },
    {
     "name": "stderr",
     "output_type": "stream",
     "text": [
      "2025/08/26 19:06:29 WARNING dspy.clients.lm: LM response was truncated due to exceeding max_tokens=6000. You can inspect the latest LM interactions with `dspy.inspect_history()`. To avoid truncation, consider passing a larger max_tokens when setting up dspy.LM. You may also consider increasing the temperature (currently 0.1)  if the reason for truncation is repetition.\n",
      "2025/08/26 19:06:29 WARNING dspy.adapters.json_adapter: Failed to use structured output format, falling back to JSON mode.\n"
     ]
    },
    {
     "name": "stdout",
     "output_type": "stream",
     "text": [
      "Average Metric: 10.65 / 25 (42.6%):  12%|█▏        | 25/213 [43:45<3:58:29, 76.11s/it]"
     ]
    },
    {
     "name": "stderr",
     "output_type": "stream",
     "text": [
      "2025/08/26 19:11:59 WARNING dspy.clients.lm: LM response was truncated due to exceeding max_tokens=6000. You can inspect the latest LM interactions with `dspy.inspect_history()`. To avoid truncation, consider passing a larger max_tokens when setting up dspy.LM. You may also consider increasing the temperature (currently 0.1)  if the reason for truncation is repetition.\n",
      "2025/08/26 19:11:59 WARNING dspy.adapters.json_adapter: Failed to use structured output format, falling back to JSON mode.\n"
     ]
    },
    {
     "name": "stdout",
     "output_type": "stream",
     "text": [
      "Average Metric: 11.42 / 27 (42.3%):  13%|█▎        | 27/213 [46:30<3:59:24, 77.23s/it]"
     ]
    },
    {
     "name": "stderr",
     "output_type": "stream",
     "text": [
      "2025/08/26 19:15:13 WARNING dspy.clients.lm: LM response was truncated due to exceeding max_tokens=6000. You can inspect the latest LM interactions with `dspy.inspect_history()`. To avoid truncation, consider passing a larger max_tokens when setting up dspy.LM. You may also consider increasing the temperature (currently 0.1)  if the reason for truncation is repetition.\n",
      "2025/08/26 19:15:13 WARNING dspy.adapters.json_adapter: Failed to use structured output format, falling back to JSON mode.\n"
     ]
    },
    {
     "name": "stdout",
     "output_type": "stream",
     "text": [
      "Average Metric: 11.75 / 28 (42.0%):  13%|█▎        | 28/213 [48:27<4:35:35, 89.38s/it]"
     ]
    },
    {
     "name": "stderr",
     "output_type": "stream",
     "text": [
      "2025/08/26 19:17:10 WARNING dspy.clients.lm: LM response was truncated due to exceeding max_tokens=6000. You can inspect the latest LM interactions with `dspy.inspect_history()`. To avoid truncation, consider passing a larger max_tokens when setting up dspy.LM. You may also consider increasing the temperature (currently 0.1)  if the reason for truncation is repetition.\n",
      "2025/08/26 19:17:10 WARNING dspy.adapters.json_adapter: Failed to use structured output format, falling back to JSON mode.\n"
     ]
    },
    {
     "name": "stdout",
     "output_type": "stream",
     "text": [
      "Average Metric: 12.25 / 29 (42.2%):  14%|█▎        | 29/213 [50:24<4:59:18, 97.60s/it]"
     ]
    },
    {
     "name": "stderr",
     "output_type": "stream",
     "text": [
      "2025/08/26 19:19:07 WARNING dspy.clients.lm: LM response was truncated due to exceeding max_tokens=6000. You can inspect the latest LM interactions with `dspy.inspect_history()`. To avoid truncation, consider passing a larger max_tokens when setting up dspy.LM. You may also consider increasing the temperature (currently 0.1)  if the reason for truncation is repetition.\n",
      "2025/08/26 19:19:07 WARNING dspy.adapters.json_adapter: Failed to use structured output format, falling back to JSON mode.\n"
     ]
    },
    {
     "name": "stdout",
     "output_type": "stream",
     "text": [
      "Average Metric: 14.31 / 34 (42.1%):  16%|█▌        | 34/213 [56:51<3:41:54, 74.38s/it] "
     ]
    },
    {
     "name": "stderr",
     "output_type": "stream",
     "text": [
      "2025/08/26 19:25:03 WARNING dspy.clients.lm: LM response was truncated due to exceeding max_tokens=6000. You can inspect the latest LM interactions with `dspy.inspect_history()`. To avoid truncation, consider passing a larger max_tokens when setting up dspy.LM. You may also consider increasing the temperature (currently 0.1)  if the reason for truncation is repetition.\n",
      "2025/08/26 19:25:03 WARNING dspy.adapters.json_adapter: Failed to use structured output format, falling back to JSON mode.\n"
     ]
    },
    {
     "name": "stdout",
     "output_type": "stream",
     "text": [
      "Average Metric: 15.06 / 35 (43.0%):  16%|█▋        | 35/213 [58:36<4:08:27, 83.75s/it]"
     ]
    },
    {
     "name": "stderr",
     "output_type": "stream",
     "text": [
      "2025/08/26 19:26:52 WARNING dspy.clients.lm: LM response was truncated due to exceeding max_tokens=6000. You can inspect the latest LM interactions with `dspy.inspect_history()`. To avoid truncation, consider passing a larger max_tokens when setting up dspy.LM. You may also consider increasing the temperature (currently 0.1)  if the reason for truncation is repetition.\n",
      "2025/08/26 19:26:52 WARNING dspy.adapters.json_adapter: Failed to use structured output format, falling back to JSON mode.\n"
     ]
    },
    {
     "name": "stdout",
     "output_type": "stream",
     "text": [
      "Average Metric: 15.69 / 37 (42.4%):  17%|█▋        | 37/213 [1:01:20<3:57:07, 80.84s/it]"
     ]
    },
    {
     "name": "stderr",
     "output_type": "stream",
     "text": [
      "2025/08/26 19:29:33 WARNING dspy.clients.lm: LM response was truncated due to exceeding max_tokens=6000. You can inspect the latest LM interactions with `dspy.inspect_history()`. To avoid truncation, consider passing a larger max_tokens when setting up dspy.LM. You may also consider increasing the temperature (currently 0.1)  if the reason for truncation is repetition.\n",
      "2025/08/26 19:29:33 WARNING dspy.adapters.json_adapter: Failed to use structured output format, falling back to JSON mode.\n"
     ]
    },
    {
     "name": "stdout",
     "output_type": "stream",
     "text": [
      "Average Metric: 16.75 / 39 (43.0%):  18%|█▊        | 39/213 [1:04:03<3:50:00, 79.32s/it]"
     ]
    },
    {
     "name": "stderr",
     "output_type": "stream",
     "text": [
      "2025/08/26 19:32:18 WARNING dspy.clients.lm: LM response was truncated due to exceeding max_tokens=6000. You can inspect the latest LM interactions with `dspy.inspect_history()`. To avoid truncation, consider passing a larger max_tokens when setting up dspy.LM. You may also consider increasing the temperature (currently 0.1)  if the reason for truncation is repetition.\n",
      "2025/08/26 19:32:18 WARNING dspy.adapters.json_adapter: Failed to use structured output format, falling back to JSON mode.\n"
     ]
    },
    {
     "name": "stdout",
     "output_type": "stream",
     "text": [
      "Average Metric: 16.75 / 40 (41.9%):  19%|█▉        | 40/213 [1:05:54<4:15:22, 88.57s/it]"
     ]
    },
    {
     "name": "stderr",
     "output_type": "stream",
     "text": [
      "2025/08/26 19:34:07 WARNING dspy.clients.lm: LM response was truncated due to exceeding max_tokens=6000. You can inspect the latest LM interactions with `dspy.inspect_history()`. To avoid truncation, consider passing a larger max_tokens when setting up dspy.LM. You may also consider increasing the temperature (currently 0.1)  if the reason for truncation is repetition.\n",
      "2025/08/26 19:34:07 WARNING dspy.adapters.json_adapter: Failed to use structured output format, falling back to JSON mode.\n"
     ]
    },
    {
     "name": "stdout",
     "output_type": "stream",
     "text": [
      "Average Metric: 16.75 / 41 (40.9%):  19%|█▉        | 41/213 [1:07:40<4:29:39, 94.07s/it]"
     ]
    },
    {
     "name": "stderr",
     "output_type": "stream",
     "text": [
      "2025/08/26 19:36:28 WARNING dspy.clients.lm: LM response was truncated due to exceeding max_tokens=6000. You can inspect the latest LM interactions with `dspy.inspect_history()`. To avoid truncation, consider passing a larger max_tokens when setting up dspy.LM. You may also consider increasing the temperature (currently 0.1)  if the reason for truncation is repetition.\n",
      "2025/08/26 19:36:28 WARNING dspy.adapters.json_adapter: Failed to use structured output format, falling back to JSON mode.\n"
     ]
    },
    {
     "name": "stdout",
     "output_type": "stream",
     "text": [
      "Average Metric: 18.13 / 44 (41.2%):  21%|██        | 44/213 [1:11:17<3:28:57, 74.19s/it] "
     ]
    },
    {
     "name": "stderr",
     "output_type": "stream",
     "text": [
      "2025/08/26 19:39:31 WARNING dspy.clients.lm: LM response was truncated due to exceeding max_tokens=6000. You can inspect the latest LM interactions with `dspy.inspect_history()`. To avoid truncation, consider passing a larger max_tokens when setting up dspy.LM. You may also consider increasing the temperature (currently 0.1)  if the reason for truncation is repetition.\n",
      "2025/08/26 19:39:31 WARNING dspy.adapters.json_adapter: Failed to use structured output format, falling back to JSON mode.\n",
      "2025/08/26 19:40:41 WARNING dspy.clients.lm: LM response was truncated due to exceeding max_tokens=6000. You can inspect the latest LM interactions with `dspy.inspect_history()`. To avoid truncation, consider passing a larger max_tokens when setting up dspy.LM. You may also consider increasing the temperature (currently 0.1)  if the reason for truncation is repetition.\n",
      "2025/08/26 19:40:41 WARNING dspy.adapters.json_adapter: Failed to use structured output format, falling back to JSON mode.\n"
     ]
    },
    {
     "name": "stdout",
     "output_type": "stream",
     "text": [
      "Average Metric: 19.59 / 47 (41.7%):  22%|██▏       | 47/213 [1:15:32<3:23:23, 73.51s/it]"
     ]
    },
    {
     "name": "stderr",
     "output_type": "stream",
     "text": [
      "2025/08/26 19:44:24 WARNING dspy.clients.lm: LM response was truncated due to exceeding max_tokens=6000. You can inspect the latest LM interactions with `dspy.inspect_history()`. To avoid truncation, consider passing a larger max_tokens when setting up dspy.LM. You may also consider increasing the temperature (currently 0.1)  if the reason for truncation is repetition.\n",
      "2025/08/26 19:44:24 WARNING dspy.adapters.json_adapter: Failed to use structured output format, falling back to JSON mode.\n"
     ]
    },
    {
     "name": "stdout",
     "output_type": "stream",
     "text": [
      "Average Metric: 20.41 / 50 (40.8%):  23%|██▎       | 50/213 [1:19:28<3:14:05, 71.45s/it]"
     ]
    },
    {
     "name": "stderr",
     "output_type": "stream",
     "text": [
      "2025/08/26 19:48:01 WARNING dspy.clients.lm: LM response was truncated due to exceeding max_tokens=6000. You can inspect the latest LM interactions with `dspy.inspect_history()`. To avoid truncation, consider passing a larger max_tokens when setting up dspy.LM. You may also consider increasing the temperature (currently 0.1)  if the reason for truncation is repetition.\n",
      "2025/08/26 19:48:01 WARNING dspy.adapters.json_adapter: Failed to use structured output format, falling back to JSON mode.\n"
     ]
    },
    {
     "name": "stdout",
     "output_type": "stream",
     "text": [
      "Average Metric: 20.93 / 52 (40.3%):  24%|██▍       | 52/213 [1:22:05<3:14:13, 72.38s/it]"
     ]
    },
    {
     "name": "stderr",
     "output_type": "stream",
     "text": [
      "2025/08/26 19:50:17 WARNING dspy.clients.lm: LM response was truncated due to exceeding max_tokens=6000. You can inspect the latest LM interactions with `dspy.inspect_history()`. To avoid truncation, consider passing a larger max_tokens when setting up dspy.LM. You may also consider increasing the temperature (currently 0.1)  if the reason for truncation is repetition.\n",
      "2025/08/26 19:50:17 WARNING dspy.adapters.json_adapter: Failed to use structured output format, falling back to JSON mode.\n"
     ]
    },
    {
     "name": "stdout",
     "output_type": "stream",
     "text": [
      "Average Metric: 21.24 / 53 (40.1%):  25%|██▍       | 53/213 [1:23:44<3:34:47, 80.55s/it]"
     ]
    },
    {
     "name": "stderr",
     "output_type": "stream",
     "text": [
      "2025/08/26 19:51:50 WARNING dspy.clients.lm: LM response was truncated due to exceeding max_tokens=6000. You can inspect the latest LM interactions with `dspy.inspect_history()`. To avoid truncation, consider passing a larger max_tokens when setting up dspy.LM. You may also consider increasing the temperature (currently 0.1)  if the reason for truncation is repetition.\n",
      "2025/08/26 19:51:50 WARNING dspy.adapters.json_adapter: Failed to use structured output format, falling back to JSON mode.\n"
     ]
    },
    {
     "name": "stdout",
     "output_type": "stream",
     "text": [
      "Average Metric: 22.10 / 57 (38.8%):  27%|██▋       | 57/213 [1:27:31<2:32:20, 58.59s/it]"
     ]
    },
    {
     "name": "stderr",
     "output_type": "stream",
     "text": [
      "2025/08/26 19:56:02 WARNING dspy.clients.lm: LM response was truncated due to exceeding max_tokens=6000. You can inspect the latest LM interactions with `dspy.inspect_history()`. To avoid truncation, consider passing a larger max_tokens when setting up dspy.LM. You may also consider increasing the temperature (currently 0.1)  if the reason for truncation is repetition.\n",
      "2025/08/26 19:56:02 WARNING dspy.adapters.json_adapter: Failed to use structured output format, falling back to JSON mode.\n"
     ]
    },
    {
     "name": "stdout",
     "output_type": "stream",
     "text": [
      "Average Metric: 22.38 / 58 (38.6%):  27%|██▋       | 58/213 [1:29:15<3:06:41, 72.27s/it]"
     ]
    },
    {
     "name": "stderr",
     "output_type": "stream",
     "text": [
      "2025/08/26 19:57:47 WARNING dspy.clients.lm: LM response was truncated due to exceeding max_tokens=6000. You can inspect the latest LM interactions with `dspy.inspect_history()`. To avoid truncation, consider passing a larger max_tokens when setting up dspy.LM. You may also consider increasing the temperature (currently 0.1)  if the reason for truncation is repetition.\n",
      "2025/08/26 19:57:47 WARNING dspy.adapters.json_adapter: Failed to use structured output format, falling back to JSON mode.\n"
     ]
    },
    {
     "name": "stdout",
     "output_type": "stream",
     "text": [
      "Average Metric: 22.87 / 60 (38.1%):  28%|██▊       | 60/213 [1:32:10<3:18:40, 77.91s/it]"
     ]
    },
    {
     "name": "stderr",
     "output_type": "stream",
     "text": [
      "2025/08/26 20:00:23 WARNING dspy.clients.lm: LM response was truncated due to exceeding max_tokens=6000. You can inspect the latest LM interactions with `dspy.inspect_history()`. To avoid truncation, consider passing a larger max_tokens when setting up dspy.LM. You may also consider increasing the temperature (currently 0.1)  if the reason for truncation is repetition.\n",
      "2025/08/26 20:00:23 WARNING dspy.adapters.json_adapter: Failed to use structured output format, falling back to JSON mode.\n",
      "2025/08/26 20:01:44 WARNING dspy.clients.lm: LM response was truncated due to exceeding max_tokens=6000. You can inspect the latest LM interactions with `dspy.inspect_history()`. To avoid truncation, consider passing a larger max_tokens when setting up dspy.LM. You may also consider increasing the temperature (currently 0.1)  if the reason for truncation is repetition.\n",
      "2025/08/26 20:01:44 WARNING dspy.adapters.json_adapter: Failed to use structured output format, falling back to JSON mode.\n"
     ]
    },
    {
     "name": "stdout",
     "output_type": "stream",
     "text": [
      "Average Metric: 24.63 / 64 (38.5%):  30%|███       | 64/213 [1:37:22<2:48:28, 67.84s/it] "
     ]
    },
    {
     "name": "stderr",
     "output_type": "stream",
     "text": [
      "2025/08/26 20:05:58 WARNING dspy.clients.lm: LM response was truncated due to exceeding max_tokens=6000. You can inspect the latest LM interactions with `dspy.inspect_history()`. To avoid truncation, consider passing a larger max_tokens when setting up dspy.LM. You may also consider increasing the temperature (currently 0.1)  if the reason for truncation is repetition.\n",
      "2025/08/26 20:05:58 WARNING dspy.adapters.json_adapter: Failed to use structured output format, falling back to JSON mode.\n"
     ]
    },
    {
     "name": "stdout",
     "output_type": "stream",
     "text": [
      "Average Metric: 26.17 / 68 (38.5%):  32%|███▏      | 68/213 [1:41:30<2:21:25, 58.52s/it]"
     ]
    },
    {
     "name": "stderr",
     "output_type": "stream",
     "text": [
      "2025/08/26 20:09:39 WARNING dspy.clients.lm: LM response was truncated due to exceeding max_tokens=6000. You can inspect the latest LM interactions with `dspy.inspect_history()`. To avoid truncation, consider passing a larger max_tokens when setting up dspy.LM. You may also consider increasing the temperature (currently 0.1)  if the reason for truncation is repetition.\n",
      "2025/08/26 20:09:39 WARNING dspy.adapters.json_adapter: Failed to use structured output format, falling back to JSON mode.\n",
      "2025/08/26 20:10:49 WARNING dspy.clients.lm: LM response was truncated due to exceeding max_tokens=6000. You can inspect the latest LM interactions with `dspy.inspect_history()`. To avoid truncation, consider passing a larger max_tokens when setting up dspy.LM. You may also consider increasing the temperature (currently 0.1)  if the reason for truncation is repetition.\n",
      "2025/08/26 20:10:49 WARNING dspy.adapters.json_adapter: Failed to use structured output format, falling back to JSON mode.\n"
     ]
    },
    {
     "name": "stdout",
     "output_type": "stream",
     "text": [
      "Average Metric: 26.99 / 70 (38.6%):  33%|███▎      | 70/213 [1:44:52<3:00:33, 75.76s/it]"
     ]
    }
   ],
   "source": [
    "evaluate(CooperativeRAG(make_search), first_qs, \"eval_results_coop_1Q.pkl\")"
   ]
  },
  {
   "cell_type": "code",
   "execution_count": null,
   "id": "858681e6",
   "metadata": {},
   "outputs": [],
   "source": []
  },
  {
   "cell_type": "code",
   "execution_count": null,
   "id": "f8bed2f3-b869-41de-8dbc-3a697eb66891",
   "metadata": {},
   "outputs": [],
   "source": []
  },
  {
   "cell_type": "code",
   "execution_count": null,
   "id": "113fc90f-dc6b-48f7-b03a-7aa4e8956f6b",
   "metadata": {},
   "outputs": [],
   "source": []
  }
 ],
 "metadata": {
  "kernelspec": {
   "display_name": "nlp-with-llms-2025-hw3",
   "language": "python",
   "name": "python3"
  },
  "language_info": {
   "codemirror_mode": {
    "name": "ipython",
    "version": 3
   },
   "file_extension": ".py",
   "mimetype": "text/x-python",
   "name": "python",
   "nbconvert_exporter": "python",
   "pygments_lexer": "ipython3",
   "version": "3.11.12"
  }
 },
 "nbformat": 4,
 "nbformat_minor": 5
}
